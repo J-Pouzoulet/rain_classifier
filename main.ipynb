{
 "cells": [
  {
   "cell_type": "markdown",
   "metadata": {},
   "source": [
    "# Rain prediction"
   ]
  },
  {
   "cell_type": "markdown",
   "metadata": {},
   "source": [
    "### <strong>Intitulé :</strong> Le dataset suivant comprend des données issues de plusieurs stations météo.\n",
    "Voici un rapide descriptif des colonnes: \n",
    "* date: date d'enregistrement \n",
    "* numer_sta: numéro unique de la station \n",
    "* Latitude: Latitude\n",
    "* Longitude: Longitude\n",
    "* Altitude: Altitude\n",
    "* pmer: pression au niveau de la mer (hpa)\n",
    "* dd: direction du vent a 10m (rose de 360)\n",
    "* ff: force du vent a 10m (m/s)\n",
    "* t: tempe sous abri inst. (degre C)\n",
    "* u: humidité \n",
    "* rr3: hauteur de precipitations en 3 heure (mm et 1/10)\n",
    "* pres: pression à l'altitude de la station (hpa)\n",
    "* dd_sin: composante sin de direction du vent\n",
    "* dd_cos: composante cos de direction du vent"
   ]
  },
  {
   "cell_type": "markdown",
   "metadata": {},
   "source": [
    "### <strong>Objectif:</strong> \n",
    "Prédire si un évènement pluvieux a lieu en fonction d'autres grandeurs présententes dans le dataset. \n",
    "On considère un événement pluvieux à partir du moment ou rr3 > 0 (Evidemment, la colonne rr3 ne pourra donc pas faire partie des features puisse que la target ne découle directement)."
   ]
  },
  {
   "cell_type": "code",
   "execution_count": 95,
   "metadata": {},
   "outputs": [],
   "source": [
    "import pandas as pd\n",
    "import numpy as np"
   ]
  },
  {
   "cell_type": "markdown",
   "metadata": {},
   "source": [
    "# 1- Load the dataset"
   ]
  },
  {
   "cell_type": "code",
   "execution_count": 96,
   "metadata": {},
   "outputs": [],
   "source": [
    "df = pd.read_csv('data_weather.csv')"
   ]
  },
  {
   "cell_type": "markdown",
   "metadata": {},
   "source": [
    "# 2 - Cleaning the data"
   ]
  },
  {
   "cell_type": "markdown",
   "metadata": {},
   "source": [
    "Let's see the shape of the dataset"
   ]
  },
  {
   "cell_type": "code",
   "execution_count": 97,
   "metadata": {},
   "outputs": [
    {
     "data": {
      "text/plain": [
       "(505857, 15)"
      ]
     },
     "execution_count": 97,
     "metadata": {},
     "output_type": "execute_result"
    }
   ],
   "source": [
    "df.shape"
   ]
  },
  {
   "cell_type": "markdown",
   "metadata": {},
   "source": [
    "We have about 500000 rows and 15 columns.\n",
    "Let's check the first few rows of the data."
   ]
  },
  {
   "cell_type": "code",
   "execution_count": 98,
   "metadata": {},
   "outputs": [
    {
     "data": {
      "text/html": [
       "<div>\n",
       "<style scoped>\n",
       "    .dataframe tbody tr th:only-of-type {\n",
       "        vertical-align: middle;\n",
       "    }\n",
       "\n",
       "    .dataframe tbody tr th {\n",
       "        vertical-align: top;\n",
       "    }\n",
       "\n",
       "    .dataframe thead th {\n",
       "        text-align: right;\n",
       "    }\n",
       "</style>\n",
       "<table border=\"1\" class=\"dataframe\">\n",
       "  <thead>\n",
       "    <tr style=\"text-align: right;\">\n",
       "      <th></th>\n",
       "      <th>date</th>\n",
       "      <th>numer_sta</th>\n",
       "      <th>Latitude</th>\n",
       "      <th>Longitude</th>\n",
       "      <th>Altitude</th>\n",
       "      <th>pmer</th>\n",
       "      <th>dd</th>\n",
       "      <th>ff</th>\n",
       "      <th>t</th>\n",
       "      <th>u</th>\n",
       "      <th>ssfrai</th>\n",
       "      <th>rr3</th>\n",
       "      <th>pres</th>\n",
       "      <th>dd_sin</th>\n",
       "      <th>dd_cos</th>\n",
       "    </tr>\n",
       "  </thead>\n",
       "  <tbody>\n",
       "    <tr>\n",
       "      <th>0</th>\n",
       "      <td>2010-01-01 00:00:00</td>\n",
       "      <td>7510.0</td>\n",
       "      <td>44.830667</td>\n",
       "      <td>-0.691333</td>\n",
       "      <td>47.0</td>\n",
       "      <td>99050.0</td>\n",
       "      <td>230.0</td>\n",
       "      <td>9.8</td>\n",
       "      <td>9.6</td>\n",
       "      <td>81.0</td>\n",
       "      <td>0.0</td>\n",
       "      <td>0</td>\n",
       "      <td>98410.0</td>\n",
       "      <td>-0.766044</td>\n",
       "      <td>-0.642788</td>\n",
       "    </tr>\n",
       "    <tr>\n",
       "      <th>1</th>\n",
       "      <td>2010-01-01 03:00:00</td>\n",
       "      <td>7510.0</td>\n",
       "      <td>44.830667</td>\n",
       "      <td>-0.691333</td>\n",
       "      <td>47.0</td>\n",
       "      <td>99160.0</td>\n",
       "      <td>250.0</td>\n",
       "      <td>11.8</td>\n",
       "      <td>8.7</td>\n",
       "      <td>87.0</td>\n",
       "      <td>0.0</td>\n",
       "      <td>0</td>\n",
       "      <td>98520.0</td>\n",
       "      <td>-0.939693</td>\n",
       "      <td>-0.342020</td>\n",
       "    </tr>\n",
       "    <tr>\n",
       "      <th>2</th>\n",
       "      <td>2010-01-01 06:00:00</td>\n",
       "      <td>7510.0</td>\n",
       "      <td>44.830667</td>\n",
       "      <td>-0.691333</td>\n",
       "      <td>47.0</td>\n",
       "      <td>99570.0</td>\n",
       "      <td>290.0</td>\n",
       "      <td>5.1</td>\n",
       "      <td>7.6</td>\n",
       "      <td>91.0</td>\n",
       "      <td>0.0</td>\n",
       "      <td>0</td>\n",
       "      <td>98920.0</td>\n",
       "      <td>-0.939693</td>\n",
       "      <td>0.342020</td>\n",
       "    </tr>\n",
       "    <tr>\n",
       "      <th>3</th>\n",
       "      <td>2010-01-01 09:00:00</td>\n",
       "      <td>7510.0</td>\n",
       "      <td>44.830667</td>\n",
       "      <td>-0.691333</td>\n",
       "      <td>47.0</td>\n",
       "      <td>99990.0</td>\n",
       "      <td>310.0</td>\n",
       "      <td>5.7</td>\n",
       "      <td>6.8</td>\n",
       "      <td>92.0</td>\n",
       "      <td>0.0</td>\n",
       "      <td>0</td>\n",
       "      <td>99340.0</td>\n",
       "      <td>-0.766044</td>\n",
       "      <td>0.642788</td>\n",
       "    </tr>\n",
       "    <tr>\n",
       "      <th>4</th>\n",
       "      <td>2010-01-01 12:00:00</td>\n",
       "      <td>7510.0</td>\n",
       "      <td>44.830667</td>\n",
       "      <td>-0.691333</td>\n",
       "      <td>47.0</td>\n",
       "      <td>100350.0</td>\n",
       "      <td>310.0</td>\n",
       "      <td>6.2</td>\n",
       "      <td>6.6</td>\n",
       "      <td>82.0</td>\n",
       "      <td>0.0</td>\n",
       "      <td>0</td>\n",
       "      <td>99690.0</td>\n",
       "      <td>-0.766044</td>\n",
       "      <td>0.642788</td>\n",
       "    </tr>\n",
       "  </tbody>\n",
       "</table>\n",
       "</div>"
      ],
      "text/plain": [
       "                  date  numer_sta   Latitude  Longitude  Altitude      pmer  \\\n",
       "0  2010-01-01 00:00:00     7510.0  44.830667  -0.691333      47.0   99050.0   \n",
       "1  2010-01-01 03:00:00     7510.0  44.830667  -0.691333      47.0   99160.0   \n",
       "2  2010-01-01 06:00:00     7510.0  44.830667  -0.691333      47.0   99570.0   \n",
       "3  2010-01-01 09:00:00     7510.0  44.830667  -0.691333      47.0   99990.0   \n",
       "4  2010-01-01 12:00:00     7510.0  44.830667  -0.691333      47.0  100350.0   \n",
       "\n",
       "      dd    ff    t     u  ssfrai  rr3     pres    dd_sin    dd_cos  \n",
       "0  230.0   9.8  9.6  81.0     0.0    0  98410.0 -0.766044 -0.642788  \n",
       "1  250.0  11.8  8.7  87.0     0.0    0  98520.0 -0.939693 -0.342020  \n",
       "2  290.0   5.1  7.6  91.0     0.0    0  98920.0 -0.939693  0.342020  \n",
       "3  310.0   5.7  6.8  92.0     0.0    0  99340.0 -0.766044  0.642788  \n",
       "4  310.0   6.2  6.6  82.0     0.0    0  99690.0 -0.766044  0.642788  "
      ]
     },
     "execution_count": 98,
     "metadata": {},
     "output_type": "execute_result"
    }
   ],
   "source": [
    "df.head(5)"
   ]
  },
  {
   "cell_type": "markdown",
   "metadata": {},
   "source": [
    "We have a quick look at the dataset using the .describe() method"
   ]
  },
  {
   "cell_type": "code",
   "execution_count": 99,
   "metadata": {},
   "outputs": [
    {
     "data": {
      "text/html": [
       "<div>\n",
       "<style scoped>\n",
       "    .dataframe tbody tr th:only-of-type {\n",
       "        vertical-align: middle;\n",
       "    }\n",
       "\n",
       "    .dataframe tbody tr th {\n",
       "        vertical-align: top;\n",
       "    }\n",
       "\n",
       "    .dataframe thead th {\n",
       "        text-align: right;\n",
       "    }\n",
       "</style>\n",
       "<table border=\"1\" class=\"dataframe\">\n",
       "  <thead>\n",
       "    <tr style=\"text-align: right;\">\n",
       "      <th></th>\n",
       "      <th>numer_sta</th>\n",
       "      <th>Latitude</th>\n",
       "      <th>Longitude</th>\n",
       "      <th>Altitude</th>\n",
       "      <th>pmer</th>\n",
       "      <th>dd</th>\n",
       "      <th>ff</th>\n",
       "      <th>t</th>\n",
       "      <th>u</th>\n",
       "      <th>ssfrai</th>\n",
       "      <th>rr3</th>\n",
       "      <th>pres</th>\n",
       "      <th>dd_sin</th>\n",
       "      <th>dd_cos</th>\n",
       "    </tr>\n",
       "  </thead>\n",
       "  <tbody>\n",
       "    <tr>\n",
       "      <th>count</th>\n",
       "      <td>505857.000000</td>\n",
       "      <td>505857.000000</td>\n",
       "      <td>505857.000000</td>\n",
       "      <td>505857.000000</td>\n",
       "      <td>5.058570e+05</td>\n",
       "      <td>505857.000000</td>\n",
       "      <td>505857.000000</td>\n",
       "      <td>505857.000000</td>\n",
       "      <td>505857.000000</td>\n",
       "      <td>505857.000000</td>\n",
       "      <td>505857.000000</td>\n",
       "      <td>505791.000000</td>\n",
       "      <td>5.058570e+05</td>\n",
       "      <td>505857.000000</td>\n",
       "    </tr>\n",
       "    <tr>\n",
       "      <th>mean</th>\n",
       "      <td>7464.116831</td>\n",
       "      <td>45.478172</td>\n",
       "      <td>3.451461</td>\n",
       "      <td>193.196708</td>\n",
       "      <td>inf</td>\n",
       "      <td>185.492402</td>\n",
       "      <td>3.417473</td>\n",
       "      <td>13.266307</td>\n",
       "      <td>71.291632</td>\n",
       "      <td>0.000035</td>\n",
       "      <td>0.018035</td>\n",
       "      <td>99359.894818</td>\n",
       "      <td>-7.266871e-02</td>\n",
       "      <td>0.096686</td>\n",
       "    </tr>\n",
       "    <tr>\n",
       "      <th>std</th>\n",
       "      <td>161.478737</td>\n",
       "      <td>1.502581</td>\n",
       "      <td>2.724426</td>\n",
       "      <td>217.479032</td>\n",
       "      <td>NaN</td>\n",
       "      <td>112.882202</td>\n",
       "      <td>2.350552</td>\n",
       "      <td>7.781763</td>\n",
       "      <td>18.898504</td>\n",
       "      <td>0.003194</td>\n",
       "      <td>0.133077</td>\n",
       "      <td>2597.553814</td>\n",
       "      <td>6.482709e-01</td>\n",
       "      <td>0.751743</td>\n",
       "    </tr>\n",
       "    <tr>\n",
       "      <th>min</th>\n",
       "      <td>7222.000000</td>\n",
       "      <td>43.437667</td>\n",
       "      <td>-1.608833</td>\n",
       "      <td>2.000000</td>\n",
       "      <td>1.059852e-205</td>\n",
       "      <td>0.000000</td>\n",
       "      <td>0.000000</td>\n",
       "      <td>-19.700000</td>\n",
       "      <td>1.000000</td>\n",
       "      <td>0.000000</td>\n",
       "      <td>0.000000</td>\n",
       "      <td>88160.000000</td>\n",
       "      <td>-1.000000e+00</td>\n",
       "      <td>-1.000000</td>\n",
       "    </tr>\n",
       "    <tr>\n",
       "      <th>25%</th>\n",
       "      <td>7280.000000</td>\n",
       "      <td>43.648833</td>\n",
       "      <td>1.175000</td>\n",
       "      <td>26.000000</td>\n",
       "      <td>1.012600e+05</td>\n",
       "      <td>80.000000</td>\n",
       "      <td>1.600000</td>\n",
       "      <td>7.700000</td>\n",
       "      <td>58.000000</td>\n",
       "      <td>0.000000</td>\n",
       "      <td>0.000000</td>\n",
       "      <td>98430.000000</td>\n",
       "      <td>-6.427876e-01</td>\n",
       "      <td>-0.642788</td>\n",
       "    </tr>\n",
       "    <tr>\n",
       "      <th>50%</th>\n",
       "      <td>7481.000000</td>\n",
       "      <td>45.726500</td>\n",
       "      <td>3.963167</td>\n",
       "      <td>151.000000</td>\n",
       "      <td>1.017500e+05</td>\n",
       "      <td>190.000000</td>\n",
       "      <td>3.000000</td>\n",
       "      <td>13.000000</td>\n",
       "      <td>74.000000</td>\n",
       "      <td>0.000000</td>\n",
       "      <td>0.000000</td>\n",
       "      <td>99960.000000</td>\n",
       "      <td>-2.449294e-16</td>\n",
       "      <td>0.173648</td>\n",
       "    </tr>\n",
       "    <tr>\n",
       "      <th>75%</th>\n",
       "      <td>7630.000000</td>\n",
       "      <td>47.150000</td>\n",
       "      <td>5.216000</td>\n",
       "      <td>263.000000</td>\n",
       "      <td>1.022900e+05</td>\n",
       "      <td>280.000000</td>\n",
       "      <td>4.600000</td>\n",
       "      <td>18.700000</td>\n",
       "      <td>87.000000</td>\n",
       "      <td>0.000000</td>\n",
       "      <td>0.000000</td>\n",
       "      <td>101120.000000</td>\n",
       "      <td>5.000000e-01</td>\n",
       "      <td>0.866025</td>\n",
       "    </tr>\n",
       "    <tr>\n",
       "      <th>max</th>\n",
       "      <td>7690.000000</td>\n",
       "      <td>47.614333</td>\n",
       "      <td>7.510000</td>\n",
       "      <td>871.000000</td>\n",
       "      <td>inf</td>\n",
       "      <td>360.000000</td>\n",
       "      <td>23.500000</td>\n",
       "      <td>42.000000</td>\n",
       "      <td>100.000000</td>\n",
       "      <td>0.990000</td>\n",
       "      <td>1.000000</td>\n",
       "      <td>104170.000000</td>\n",
       "      <td>1.000000e+00</td>\n",
       "      <td>1.000000</td>\n",
       "    </tr>\n",
       "  </tbody>\n",
       "</table>\n",
       "</div>"
      ],
      "text/plain": [
       "           numer_sta       Latitude      Longitude       Altitude  \\\n",
       "count  505857.000000  505857.000000  505857.000000  505857.000000   \n",
       "mean     7464.116831      45.478172       3.451461     193.196708   \n",
       "std       161.478737       1.502581       2.724426     217.479032   \n",
       "min      7222.000000      43.437667      -1.608833       2.000000   \n",
       "25%      7280.000000      43.648833       1.175000      26.000000   \n",
       "50%      7481.000000      45.726500       3.963167     151.000000   \n",
       "75%      7630.000000      47.150000       5.216000     263.000000   \n",
       "max      7690.000000      47.614333       7.510000     871.000000   \n",
       "\n",
       "                pmer             dd             ff              t  \\\n",
       "count   5.058570e+05  505857.000000  505857.000000  505857.000000   \n",
       "mean             inf     185.492402       3.417473      13.266307   \n",
       "std              NaN     112.882202       2.350552       7.781763   \n",
       "min    1.059852e-205       0.000000       0.000000     -19.700000   \n",
       "25%     1.012600e+05      80.000000       1.600000       7.700000   \n",
       "50%     1.017500e+05     190.000000       3.000000      13.000000   \n",
       "75%     1.022900e+05     280.000000       4.600000      18.700000   \n",
       "max              inf     360.000000      23.500000      42.000000   \n",
       "\n",
       "                   u         ssfrai            rr3           pres  \\\n",
       "count  505857.000000  505857.000000  505857.000000  505791.000000   \n",
       "mean       71.291632       0.000035       0.018035   99359.894818   \n",
       "std        18.898504       0.003194       0.133077    2597.553814   \n",
       "min         1.000000       0.000000       0.000000   88160.000000   \n",
       "25%        58.000000       0.000000       0.000000   98430.000000   \n",
       "50%        74.000000       0.000000       0.000000   99960.000000   \n",
       "75%        87.000000       0.000000       0.000000  101120.000000   \n",
       "max       100.000000       0.990000       1.000000  104170.000000   \n",
       "\n",
       "             dd_sin         dd_cos  \n",
       "count  5.058570e+05  505857.000000  \n",
       "mean  -7.266871e-02       0.096686  \n",
       "std    6.482709e-01       0.751743  \n",
       "min   -1.000000e+00      -1.000000  \n",
       "25%   -6.427876e-01      -0.642788  \n",
       "50%   -2.449294e-16       0.173648  \n",
       "75%    5.000000e-01       0.866025  \n",
       "max    1.000000e+00       1.000000  "
      ]
     },
     "execution_count": 99,
     "metadata": {},
     "output_type": "execute_result"
    }
   ],
   "source": [
    "df.describe()"
   ]
  },
  {
   "cell_type": "markdown",
   "metadata": {},
   "source": [
    "We can already see some columns have issue >>> pmer "
   ]
  },
  {
   "cell_type": "markdown",
   "metadata": {},
   "source": [
    "Let's check if we have null values in the dataset.\n"
   ]
  },
  {
   "cell_type": "code",
   "execution_count": 100,
   "metadata": {},
   "outputs": [
    {
     "name": "stdout",
     "output_type": "stream",
     "text": [
      "date          0\n",
      "numer_sta     0\n",
      "Latitude      0\n",
      "Longitude     0\n",
      "Altitude      0\n",
      "pmer          0\n",
      "dd            0\n",
      "ff            0\n",
      "t             0\n",
      "u             0\n",
      "ssfrai        0\n",
      "rr3           0\n",
      "pres         66\n",
      "dd_sin        0\n",
      "dd_cos        0\n",
      "dtype: int64\n"
     ]
    }
   ],
   "source": [
    "print(df.isnull().sum())"
   ]
  },
  {
   "cell_type": "markdown",
   "metadata": {},
   "source": [
    "We only have 66 rows with null values in the pres column, let's get rid of it"
   ]
  },
  {
   "cell_type": "code",
   "execution_count": 101,
   "metadata": {},
   "outputs": [],
   "source": [
    "df.dropna(inplace=True)"
   ]
  },
  {
   "cell_type": "markdown",
   "metadata": {},
   "source": [
    "We have to deal with null values in \"pres\""
   ]
  },
  {
   "cell_type": "markdown",
   "metadata": {},
   "source": [
    "Let's check the type of columns"
   ]
  },
  {
   "cell_type": "code",
   "execution_count": 102,
   "metadata": {},
   "outputs": [
    {
     "data": {
      "text/plain": [
       "date          object\n",
       "numer_sta    float64\n",
       "Latitude     float64\n",
       "Longitude    float64\n",
       "Altitude     float64\n",
       "pmer         float64\n",
       "dd           float64\n",
       "ff           float64\n",
       "t            float64\n",
       "u            float64\n",
       "ssfrai       float64\n",
       "rr3            int64\n",
       "pres         float64\n",
       "dd_sin       float64\n",
       "dd_cos       float64\n",
       "dtype: object"
      ]
     },
     "execution_count": 102,
     "metadata": {},
     "output_type": "execute_result"
    }
   ],
   "source": [
    "# check the type of the columns\n",
    "df.dtypes"
   ]
  },
  {
   "cell_type": "markdown",
   "metadata": {},
   "source": [
    "Everything looks fine but for the date, not in datetime format"
   ]
  },
  {
   "cell_type": "code",
   "execution_count": 103,
   "metadata": {},
   "outputs": [],
   "source": [
    "# we can see that the column 'date' is not in the right format\n",
    "# we will convert it to datetime\n",
    "df['date'] = pd.to_datetime(df['date'])"
   ]
  },
  {
   "cell_type": "code",
   "execution_count": 104,
   "metadata": {},
   "outputs": [
    {
     "data": {
      "text/plain": [
       "date         datetime64[ns]\n",
       "numer_sta           float64\n",
       "Latitude            float64\n",
       "Longitude           float64\n",
       "Altitude            float64\n",
       "pmer                float64\n",
       "dd                  float64\n",
       "ff                  float64\n",
       "t                   float64\n",
       "u                   float64\n",
       "ssfrai              float64\n",
       "rr3                   int64\n",
       "pres                float64\n",
       "dd_sin              float64\n",
       "dd_cos              float64\n",
       "dtype: object"
      ]
     },
     "execution_count": 104,
     "metadata": {},
     "output_type": "execute_result"
    }
   ],
   "source": [
    "# check the type of the columns\n",
    "df.dtypes"
   ]
  },
  {
   "cell_type": "code",
   "execution_count": 105,
   "metadata": {},
   "outputs": [
    {
     "data": {
      "text/html": [
       "<div>\n",
       "<style scoped>\n",
       "    .dataframe tbody tr th:only-of-type {\n",
       "        vertical-align: middle;\n",
       "    }\n",
       "\n",
       "    .dataframe tbody tr th {\n",
       "        vertical-align: top;\n",
       "    }\n",
       "\n",
       "    .dataframe thead th {\n",
       "        text-align: right;\n",
       "    }\n",
       "</style>\n",
       "<table border=\"1\" class=\"dataframe\">\n",
       "  <thead>\n",
       "    <tr style=\"text-align: right;\">\n",
       "      <th></th>\n",
       "      <th>date</th>\n",
       "      <th>numer_sta</th>\n",
       "      <th>Latitude</th>\n",
       "      <th>Longitude</th>\n",
       "      <th>Altitude</th>\n",
       "      <th>pmer</th>\n",
       "      <th>dd</th>\n",
       "      <th>ff</th>\n",
       "      <th>t</th>\n",
       "      <th>u</th>\n",
       "      <th>ssfrai</th>\n",
       "      <th>rr3</th>\n",
       "      <th>pres</th>\n",
       "      <th>dd_sin</th>\n",
       "      <th>dd_cos</th>\n",
       "    </tr>\n",
       "  </thead>\n",
       "  <tbody>\n",
       "    <tr>\n",
       "      <th>0</th>\n",
       "      <td>2010-01-01 00:00:00</td>\n",
       "      <td>7510.0</td>\n",
       "      <td>44.830667</td>\n",
       "      <td>-0.691333</td>\n",
       "      <td>47.0</td>\n",
       "      <td>99050.0</td>\n",
       "      <td>230.0</td>\n",
       "      <td>9.8</td>\n",
       "      <td>9.6</td>\n",
       "      <td>81.0</td>\n",
       "      <td>0.0</td>\n",
       "      <td>0</td>\n",
       "      <td>98410.0</td>\n",
       "      <td>-0.766044</td>\n",
       "      <td>-0.642788</td>\n",
       "    </tr>\n",
       "    <tr>\n",
       "      <th>1</th>\n",
       "      <td>2010-01-01 03:00:00</td>\n",
       "      <td>7510.0</td>\n",
       "      <td>44.830667</td>\n",
       "      <td>-0.691333</td>\n",
       "      <td>47.0</td>\n",
       "      <td>99160.0</td>\n",
       "      <td>250.0</td>\n",
       "      <td>11.8</td>\n",
       "      <td>8.7</td>\n",
       "      <td>87.0</td>\n",
       "      <td>0.0</td>\n",
       "      <td>0</td>\n",
       "      <td>98520.0</td>\n",
       "      <td>-0.939693</td>\n",
       "      <td>-0.342020</td>\n",
       "    </tr>\n",
       "    <tr>\n",
       "      <th>2</th>\n",
       "      <td>2010-01-01 06:00:00</td>\n",
       "      <td>7510.0</td>\n",
       "      <td>44.830667</td>\n",
       "      <td>-0.691333</td>\n",
       "      <td>47.0</td>\n",
       "      <td>99570.0</td>\n",
       "      <td>290.0</td>\n",
       "      <td>5.1</td>\n",
       "      <td>7.6</td>\n",
       "      <td>91.0</td>\n",
       "      <td>0.0</td>\n",
       "      <td>0</td>\n",
       "      <td>98920.0</td>\n",
       "      <td>-0.939693</td>\n",
       "      <td>0.342020</td>\n",
       "    </tr>\n",
       "    <tr>\n",
       "      <th>3</th>\n",
       "      <td>2010-01-01 09:00:00</td>\n",
       "      <td>7510.0</td>\n",
       "      <td>44.830667</td>\n",
       "      <td>-0.691333</td>\n",
       "      <td>47.0</td>\n",
       "      <td>99990.0</td>\n",
       "      <td>310.0</td>\n",
       "      <td>5.7</td>\n",
       "      <td>6.8</td>\n",
       "      <td>92.0</td>\n",
       "      <td>0.0</td>\n",
       "      <td>0</td>\n",
       "      <td>99340.0</td>\n",
       "      <td>-0.766044</td>\n",
       "      <td>0.642788</td>\n",
       "    </tr>\n",
       "    <tr>\n",
       "      <th>4</th>\n",
       "      <td>2010-01-01 12:00:00</td>\n",
       "      <td>7510.0</td>\n",
       "      <td>44.830667</td>\n",
       "      <td>-0.691333</td>\n",
       "      <td>47.0</td>\n",
       "      <td>100350.0</td>\n",
       "      <td>310.0</td>\n",
       "      <td>6.2</td>\n",
       "      <td>6.6</td>\n",
       "      <td>82.0</td>\n",
       "      <td>0.0</td>\n",
       "      <td>0</td>\n",
       "      <td>99690.0</td>\n",
       "      <td>-0.766044</td>\n",
       "      <td>0.642788</td>\n",
       "    </tr>\n",
       "  </tbody>\n",
       "</table>\n",
       "</div>"
      ],
      "text/plain": [
       "                 date  numer_sta   Latitude  Longitude  Altitude      pmer  \\\n",
       "0 2010-01-01 00:00:00     7510.0  44.830667  -0.691333      47.0   99050.0   \n",
       "1 2010-01-01 03:00:00     7510.0  44.830667  -0.691333      47.0   99160.0   \n",
       "2 2010-01-01 06:00:00     7510.0  44.830667  -0.691333      47.0   99570.0   \n",
       "3 2010-01-01 09:00:00     7510.0  44.830667  -0.691333      47.0   99990.0   \n",
       "4 2010-01-01 12:00:00     7510.0  44.830667  -0.691333      47.0  100350.0   \n",
       "\n",
       "      dd    ff    t     u  ssfrai  rr3     pres    dd_sin    dd_cos  \n",
       "0  230.0   9.8  9.6  81.0     0.0    0  98410.0 -0.766044 -0.642788  \n",
       "1  250.0  11.8  8.7  87.0     0.0    0  98520.0 -0.939693 -0.342020  \n",
       "2  290.0   5.1  7.6  91.0     0.0    0  98920.0 -0.939693  0.342020  \n",
       "3  310.0   5.7  6.8  92.0     0.0    0  99340.0 -0.766044  0.642788  \n",
       "4  310.0   6.2  6.6  82.0     0.0    0  99690.0 -0.766044  0.642788  "
      ]
     },
     "execution_count": 105,
     "metadata": {},
     "output_type": "execute_result"
    }
   ],
   "source": [
    "df.head()"
   ]
  },
  {
   "cell_type": "markdown",
   "metadata": {},
   "source": [
    "let's check for duplicates"
   ]
  },
  {
   "cell_type": "code",
   "execution_count": 106,
   "metadata": {},
   "outputs": [
    {
     "data": {
      "text/plain": [
       "66"
      ]
     },
     "execution_count": 106,
     "metadata": {},
     "output_type": "execute_result"
    }
   ],
   "source": [
    "# check for duplicates\n",
    "df.duplicated().sum()"
   ]
  },
  {
   "cell_type": "markdown",
   "metadata": {},
   "source": [
    "We only have 66 duplicates, let's get rid of them"
   ]
  },
  {
   "cell_type": "code",
   "execution_count": 107,
   "metadata": {},
   "outputs": [],
   "source": [
    "#remove duplicates\n",
    "df = df.drop_duplicates()"
   ]
  },
  {
   "cell_type": "markdown",
   "metadata": {},
   "source": [
    "We replace inf value by max value in the \"pmer\" column"
   ]
  },
  {
   "cell_type": "code",
   "execution_count": 108,
   "metadata": {},
   "outputs": [],
   "source": [
    "pmer_max = df['pmer'][~np.isinf(df['pmer'])].max()\n",
    "df['pmer'] = df['pmer'].apply(lambda x: pmer_max if np.isinf(x) else x)"
   ]
  },
  {
   "cell_type": "code",
   "execution_count": 109,
   "metadata": {},
   "outputs": [
    {
     "data": {
      "text/html": [
       "<div>\n",
       "<style scoped>\n",
       "    .dataframe tbody tr th:only-of-type {\n",
       "        vertical-align: middle;\n",
       "    }\n",
       "\n",
       "    .dataframe tbody tr th {\n",
       "        vertical-align: top;\n",
       "    }\n",
       "\n",
       "    .dataframe thead th {\n",
       "        text-align: right;\n",
       "    }\n",
       "</style>\n",
       "<table border=\"1\" class=\"dataframe\">\n",
       "  <thead>\n",
       "    <tr style=\"text-align: right;\">\n",
       "      <th></th>\n",
       "      <th>numer_sta</th>\n",
       "      <th>Latitude</th>\n",
       "      <th>Longitude</th>\n",
       "      <th>Altitude</th>\n",
       "      <th>pmer</th>\n",
       "      <th>dd</th>\n",
       "      <th>ff</th>\n",
       "      <th>t</th>\n",
       "      <th>u</th>\n",
       "      <th>ssfrai</th>\n",
       "      <th>rr3</th>\n",
       "      <th>pres</th>\n",
       "      <th>dd_sin</th>\n",
       "      <th>dd_cos</th>\n",
       "    </tr>\n",
       "  </thead>\n",
       "  <tbody>\n",
       "    <tr>\n",
       "      <th>count</th>\n",
       "      <td>505725.000000</td>\n",
       "      <td>505725.000000</td>\n",
       "      <td>505725.000000</td>\n",
       "      <td>505725.000000</td>\n",
       "      <td>5.057250e+05</td>\n",
       "      <td>505725.000000</td>\n",
       "      <td>505725.00000</td>\n",
       "      <td>505725.000000</td>\n",
       "      <td>505725.000000</td>\n",
       "      <td>505725.000000</td>\n",
       "      <td>505725.000000</td>\n",
       "      <td>505725.000000</td>\n",
       "      <td>5.057250e+05</td>\n",
       "      <td>505725.000000</td>\n",
       "    </tr>\n",
       "    <tr>\n",
       "      <th>mean</th>\n",
       "      <td>7464.122169</td>\n",
       "      <td>45.478113</td>\n",
       "      <td>3.451389</td>\n",
       "      <td>193.195893</td>\n",
       "      <td>7.556774e+94</td>\n",
       "      <td>185.488002</td>\n",
       "      <td>3.41752</td>\n",
       "      <td>13.266828</td>\n",
       "      <td>71.292617</td>\n",
       "      <td>0.000035</td>\n",
       "      <td>0.018030</td>\n",
       "      <td>99359.873943</td>\n",
       "      <td>-7.264192e-02</td>\n",
       "      <td>0.096604</td>\n",
       "    </tr>\n",
       "    <tr>\n",
       "      <th>std</th>\n",
       "      <td>161.479884</td>\n",
       "      <td>1.502585</td>\n",
       "      <td>2.724525</td>\n",
       "      <td>217.489489</td>\n",
       "      <td>3.384631e+96</td>\n",
       "      <td>112.876648</td>\n",
       "      <td>2.35045</td>\n",
       "      <td>7.781668</td>\n",
       "      <td>18.898608</td>\n",
       "      <td>0.003195</td>\n",
       "      <td>0.133058</td>\n",
       "      <td>2597.502490</td>\n",
       "      <td>6.482872e-01</td>\n",
       "      <td>0.751742</td>\n",
       "    </tr>\n",
       "    <tr>\n",
       "      <th>min</th>\n",
       "      <td>7222.000000</td>\n",
       "      <td>43.437667</td>\n",
       "      <td>-1.608833</td>\n",
       "      <td>2.000000</td>\n",
       "      <td>1.059852e-205</td>\n",
       "      <td>0.000000</td>\n",
       "      <td>0.00000</td>\n",
       "      <td>-19.700000</td>\n",
       "      <td>1.000000</td>\n",
       "      <td>0.000000</td>\n",
       "      <td>0.000000</td>\n",
       "      <td>88160.000000</td>\n",
       "      <td>-1.000000e+00</td>\n",
       "      <td>-1.000000</td>\n",
       "    </tr>\n",
       "    <tr>\n",
       "      <th>25%</th>\n",
       "      <td>7280.000000</td>\n",
       "      <td>43.648833</td>\n",
       "      <td>1.175000</td>\n",
       "      <td>26.000000</td>\n",
       "      <td>1.012600e+05</td>\n",
       "      <td>80.000000</td>\n",
       "      <td>1.60000</td>\n",
       "      <td>7.700000</td>\n",
       "      <td>58.000000</td>\n",
       "      <td>0.000000</td>\n",
       "      <td>0.000000</td>\n",
       "      <td>98430.000000</td>\n",
       "      <td>-6.427876e-01</td>\n",
       "      <td>-0.642788</td>\n",
       "    </tr>\n",
       "    <tr>\n",
       "      <th>50%</th>\n",
       "      <td>7481.000000</td>\n",
       "      <td>45.726500</td>\n",
       "      <td>3.963167</td>\n",
       "      <td>151.000000</td>\n",
       "      <td>1.017500e+05</td>\n",
       "      <td>190.000000</td>\n",
       "      <td>3.00000</td>\n",
       "      <td>13.000000</td>\n",
       "      <td>74.000000</td>\n",
       "      <td>0.000000</td>\n",
       "      <td>0.000000</td>\n",
       "      <td>99960.000000</td>\n",
       "      <td>-2.449294e-16</td>\n",
       "      <td>0.173648</td>\n",
       "    </tr>\n",
       "    <tr>\n",
       "      <th>75%</th>\n",
       "      <td>7630.000000</td>\n",
       "      <td>47.150000</td>\n",
       "      <td>5.216000</td>\n",
       "      <td>263.000000</td>\n",
       "      <td>1.022900e+05</td>\n",
       "      <td>280.000000</td>\n",
       "      <td>4.60000</td>\n",
       "      <td>18.700000</td>\n",
       "      <td>87.000000</td>\n",
       "      <td>0.000000</td>\n",
       "      <td>0.000000</td>\n",
       "      <td>101120.000000</td>\n",
       "      <td>5.000000e-01</td>\n",
       "      <td>0.866025</td>\n",
       "    </tr>\n",
       "    <tr>\n",
       "      <th>max</th>\n",
       "      <td>7690.000000</td>\n",
       "      <td>47.614333</td>\n",
       "      <td>7.510000</td>\n",
       "      <td>871.000000</td>\n",
       "      <td>1.529591e+98</td>\n",
       "      <td>360.000000</td>\n",
       "      <td>23.50000</td>\n",
       "      <td>42.000000</td>\n",
       "      <td>100.000000</td>\n",
       "      <td>0.990000</td>\n",
       "      <td>1.000000</td>\n",
       "      <td>104170.000000</td>\n",
       "      <td>1.000000e+00</td>\n",
       "      <td>1.000000</td>\n",
       "    </tr>\n",
       "  </tbody>\n",
       "</table>\n",
       "</div>"
      ],
      "text/plain": [
       "           numer_sta       Latitude      Longitude       Altitude  \\\n",
       "count  505725.000000  505725.000000  505725.000000  505725.000000   \n",
       "mean     7464.122169      45.478113       3.451389     193.195893   \n",
       "std       161.479884       1.502585       2.724525     217.489489   \n",
       "min      7222.000000      43.437667      -1.608833       2.000000   \n",
       "25%      7280.000000      43.648833       1.175000      26.000000   \n",
       "50%      7481.000000      45.726500       3.963167     151.000000   \n",
       "75%      7630.000000      47.150000       5.216000     263.000000   \n",
       "max      7690.000000      47.614333       7.510000     871.000000   \n",
       "\n",
       "                pmer             dd            ff              t  \\\n",
       "count   5.057250e+05  505725.000000  505725.00000  505725.000000   \n",
       "mean    7.556774e+94     185.488002       3.41752      13.266828   \n",
       "std     3.384631e+96     112.876648       2.35045       7.781668   \n",
       "min    1.059852e-205       0.000000       0.00000     -19.700000   \n",
       "25%     1.012600e+05      80.000000       1.60000       7.700000   \n",
       "50%     1.017500e+05     190.000000       3.00000      13.000000   \n",
       "75%     1.022900e+05     280.000000       4.60000      18.700000   \n",
       "max     1.529591e+98     360.000000      23.50000      42.000000   \n",
       "\n",
       "                   u         ssfrai            rr3           pres  \\\n",
       "count  505725.000000  505725.000000  505725.000000  505725.000000   \n",
       "mean       71.292617       0.000035       0.018030   99359.873943   \n",
       "std        18.898608       0.003195       0.133058    2597.502490   \n",
       "min         1.000000       0.000000       0.000000   88160.000000   \n",
       "25%        58.000000       0.000000       0.000000   98430.000000   \n",
       "50%        74.000000       0.000000       0.000000   99960.000000   \n",
       "75%        87.000000       0.000000       0.000000  101120.000000   \n",
       "max       100.000000       0.990000       1.000000  104170.000000   \n",
       "\n",
       "             dd_sin         dd_cos  \n",
       "count  5.057250e+05  505725.000000  \n",
       "mean  -7.264192e-02       0.096604  \n",
       "std    6.482872e-01       0.751742  \n",
       "min   -1.000000e+00      -1.000000  \n",
       "25%   -6.427876e-01      -0.642788  \n",
       "50%   -2.449294e-16       0.173648  \n",
       "75%    5.000000e-01       0.866025  \n",
       "max    1.000000e+00       1.000000  "
      ]
     },
     "execution_count": 109,
     "metadata": {},
     "output_type": "execute_result"
    }
   ],
   "source": [
    "df.describe()"
   ]
  },
  {
   "cell_type": "markdown",
   "metadata": {},
   "source": [
    "Let's have a quick look at the distribution of the data using the .hist() method"
   ]
  },
  {
   "cell_type": "code",
   "execution_count": 110,
   "metadata": {},
   "outputs": [
    {
     "data": {
      "text/plain": [
       "array([[<AxesSubplot:title={'center':'date'}>,\n",
       "        <AxesSubplot:title={'center':'numer_sta'}>,\n",
       "        <AxesSubplot:title={'center':'Latitude'}>,\n",
       "        <AxesSubplot:title={'center':'Longitude'}>],\n",
       "       [<AxesSubplot:title={'center':'Altitude'}>,\n",
       "        <AxesSubplot:title={'center':'pmer'}>,\n",
       "        <AxesSubplot:title={'center':'dd'}>,\n",
       "        <AxesSubplot:title={'center':'ff'}>],\n",
       "       [<AxesSubplot:title={'center':'t'}>,\n",
       "        <AxesSubplot:title={'center':'u'}>,\n",
       "        <AxesSubplot:title={'center':'ssfrai'}>,\n",
       "        <AxesSubplot:title={'center':'rr3'}>],\n",
       "       [<AxesSubplot:title={'center':'pres'}>,\n",
       "        <AxesSubplot:title={'center':'dd_sin'}>,\n",
       "        <AxesSubplot:title={'center':'dd_cos'}>, <AxesSubplot:>]],\n",
       "      dtype=object)"
      ]
     },
     "execution_count": 110,
     "metadata": {},
     "output_type": "execute_result"
    },
    {
     "data": {
      "image/png": "[encoded data removed]",
      "text/plain": [
       "<Figure size 1200x1200 with 16 Axes>"
      ]
     },
     "metadata": {},
     "output_type": "display_data"
    }
   ],
   "source": [
    "df.hist(figsize=(12, 12))"
   ]
  },
  {
   "cell_type": "markdown",
   "metadata": {},
   "source": [
    "# 3 - Feature's engineering and selection"
   ]
  },
  {
   "cell_type": "markdown",
   "metadata": {},
   "source": [
    "We need to convert features that have a cyclic nature to metrics that can be used in the model. \n",
    "For example, the day of the year is a cyclic feature that can be converted to sin and cos features."
   ]
  },
  {
   "cell_type": "markdown",
   "metadata": {},
   "source": [
    "First we extract the date and hours from the datetime in two columns"
   ]
  },
  {
   "cell_type": "code",
   "execution_count": 111,
   "metadata": {},
   "outputs": [],
   "source": [
    "### We extract the date and hours from the datetime in two columns\n",
    "df['time'] = df['date'].dt.time\n",
    "df['date_only'] = df['date'].dt.date\n",
    "# From the date we can extract convert the month and day to the days number in the year\n",
    "df['day'] = df['date'].apply(lambda x: x.timetuple().tm_yday)\n",
    "# From the time we can extract the hour\n",
    "df['hour'] = df['time'].apply(lambda x: x.hour)"
   ]
  },
  {
   "cell_type": "markdown",
   "metadata": {},
   "source": [
    "We convert day to sin and cos to keep the cyclical nature of the data"
   ]
  },
  {
   "cell_type": "code",
   "execution_count": 112,
   "metadata": {},
   "outputs": [],
   "source": [
    "# We convert day to sin and cos to keep the cyclical nature of the data\n",
    "df['day_sin'] = np.sin(df['day'] * (2 * np.pi / 365))\n",
    "df['day_cos'] = np.cos(df['day'] * (2 * np.pi / 365))"
   ]
  },
  {
   "cell_type": "markdown",
   "metadata": {},
   "source": [
    "We convert hour to sin and cos to keep the cyclical nature of the data"
   ]
  },
  {
   "cell_type": "code",
   "execution_count": 113,
   "metadata": {},
   "outputs": [],
   "source": [
    " # We convert hour to sin and cos to keep the cyclical nature of the data\n",
    "df['hour_sin'] = np.sin(df['hour'] * (2 * np.pi / 24))\n",
    "df['hour_cos'] = np.cos(df['hour'] * (2 * np.pi / 24))"
   ]
  },
  {
   "cell_type": "markdown",
   "metadata": {},
   "source": [
    "Let's check the columns name"
   ]
  },
  {
   "cell_type": "code",
   "execution_count": 114,
   "metadata": {},
   "outputs": [
    {
     "data": {
      "text/plain": [
       "Index(['date', 'numer_sta', 'Latitude', 'Longitude', 'Altitude', 'pmer', 'dd',\n",
       "       'ff', 't', 'u', 'ssfrai', 'rr3', 'pres', 'dd_sin', 'dd_cos', 'time',\n",
       "       'date_only', 'day', 'hour', 'day_sin', 'day_cos', 'hour_sin',\n",
       "       'hour_cos'],\n",
       "      dtype='object')"
      ]
     },
     "execution_count": 114,
     "metadata": {},
     "output_type": "execute_result"
    }
   ],
   "source": [
    "df.columns"
   ]
  },
  {
   "cell_type": "code",
   "execution_count": 115,
   "metadata": {},
   "outputs": [
    {
     "data": {
      "text/html": [
       "<div>\n",
       "<style scoped>\n",
       "    .dataframe tbody tr th:only-of-type {\n",
       "        vertical-align: middle;\n",
       "    }\n",
       "\n",
       "    .dataframe tbody tr th {\n",
       "        vertical-align: top;\n",
       "    }\n",
       "\n",
       "    .dataframe thead th {\n",
       "        text-align: right;\n",
       "    }\n",
       "</style>\n",
       "<table border=\"1\" class=\"dataframe\">\n",
       "  <thead>\n",
       "    <tr style=\"text-align: right;\">\n",
       "      <th></th>\n",
       "      <th>date</th>\n",
       "      <th>numer_sta</th>\n",
       "      <th>Latitude</th>\n",
       "      <th>Longitude</th>\n",
       "      <th>Altitude</th>\n",
       "      <th>pmer</th>\n",
       "      <th>dd</th>\n",
       "      <th>ff</th>\n",
       "      <th>t</th>\n",
       "      <th>u</th>\n",
       "      <th>...</th>\n",
       "      <th>dd_sin</th>\n",
       "      <th>dd_cos</th>\n",
       "      <th>time</th>\n",
       "      <th>date_only</th>\n",
       "      <th>day</th>\n",
       "      <th>hour</th>\n",
       "      <th>day_sin</th>\n",
       "      <th>day_cos</th>\n",
       "      <th>hour_sin</th>\n",
       "      <th>hour_cos</th>\n",
       "    </tr>\n",
       "  </thead>\n",
       "  <tbody>\n",
       "    <tr>\n",
       "      <th>0</th>\n",
       "      <td>2010-01-01 00:00:00</td>\n",
       "      <td>7510.0</td>\n",
       "      <td>44.830667</td>\n",
       "      <td>-0.691333</td>\n",
       "      <td>47.0</td>\n",
       "      <td>99050.0</td>\n",
       "      <td>230.0</td>\n",
       "      <td>9.8</td>\n",
       "      <td>9.6</td>\n",
       "      <td>81.0</td>\n",
       "      <td>...</td>\n",
       "      <td>-0.766044</td>\n",
       "      <td>-0.642788</td>\n",
       "      <td>00:00:00</td>\n",
       "      <td>2010-01-01</td>\n",
       "      <td>1</td>\n",
       "      <td>0</td>\n",
       "      <td>0.017213</td>\n",
       "      <td>0.999852</td>\n",
       "      <td>0.000000e+00</td>\n",
       "      <td>1.000000e+00</td>\n",
       "    </tr>\n",
       "    <tr>\n",
       "      <th>1</th>\n",
       "      <td>2010-01-01 03:00:00</td>\n",
       "      <td>7510.0</td>\n",
       "      <td>44.830667</td>\n",
       "      <td>-0.691333</td>\n",
       "      <td>47.0</td>\n",
       "      <td>99160.0</td>\n",
       "      <td>250.0</td>\n",
       "      <td>11.8</td>\n",
       "      <td>8.7</td>\n",
       "      <td>87.0</td>\n",
       "      <td>...</td>\n",
       "      <td>-0.939693</td>\n",
       "      <td>-0.342020</td>\n",
       "      <td>03:00:00</td>\n",
       "      <td>2010-01-01</td>\n",
       "      <td>1</td>\n",
       "      <td>3</td>\n",
       "      <td>0.017213</td>\n",
       "      <td>0.999852</td>\n",
       "      <td>7.071068e-01</td>\n",
       "      <td>7.071068e-01</td>\n",
       "    </tr>\n",
       "    <tr>\n",
       "      <th>2</th>\n",
       "      <td>2010-01-01 06:00:00</td>\n",
       "      <td>7510.0</td>\n",
       "      <td>44.830667</td>\n",
       "      <td>-0.691333</td>\n",
       "      <td>47.0</td>\n",
       "      <td>99570.0</td>\n",
       "      <td>290.0</td>\n",
       "      <td>5.1</td>\n",
       "      <td>7.6</td>\n",
       "      <td>91.0</td>\n",
       "      <td>...</td>\n",
       "      <td>-0.939693</td>\n",
       "      <td>0.342020</td>\n",
       "      <td>06:00:00</td>\n",
       "      <td>2010-01-01</td>\n",
       "      <td>1</td>\n",
       "      <td>6</td>\n",
       "      <td>0.017213</td>\n",
       "      <td>0.999852</td>\n",
       "      <td>1.000000e+00</td>\n",
       "      <td>6.123234e-17</td>\n",
       "    </tr>\n",
       "    <tr>\n",
       "      <th>3</th>\n",
       "      <td>2010-01-01 09:00:00</td>\n",
       "      <td>7510.0</td>\n",
       "      <td>44.830667</td>\n",
       "      <td>-0.691333</td>\n",
       "      <td>47.0</td>\n",
       "      <td>99990.0</td>\n",
       "      <td>310.0</td>\n",
       "      <td>5.7</td>\n",
       "      <td>6.8</td>\n",
       "      <td>92.0</td>\n",
       "      <td>...</td>\n",
       "      <td>-0.766044</td>\n",
       "      <td>0.642788</td>\n",
       "      <td>09:00:00</td>\n",
       "      <td>2010-01-01</td>\n",
       "      <td>1</td>\n",
       "      <td>9</td>\n",
       "      <td>0.017213</td>\n",
       "      <td>0.999852</td>\n",
       "      <td>7.071068e-01</td>\n",
       "      <td>-7.071068e-01</td>\n",
       "    </tr>\n",
       "    <tr>\n",
       "      <th>4</th>\n",
       "      <td>2010-01-01 12:00:00</td>\n",
       "      <td>7510.0</td>\n",
       "      <td>44.830667</td>\n",
       "      <td>-0.691333</td>\n",
       "      <td>47.0</td>\n",
       "      <td>100350.0</td>\n",
       "      <td>310.0</td>\n",
       "      <td>6.2</td>\n",
       "      <td>6.6</td>\n",
       "      <td>82.0</td>\n",
       "      <td>...</td>\n",
       "      <td>-0.766044</td>\n",
       "      <td>0.642788</td>\n",
       "      <td>12:00:00</td>\n",
       "      <td>2010-01-01</td>\n",
       "      <td>1</td>\n",
       "      <td>12</td>\n",
       "      <td>0.017213</td>\n",
       "      <td>0.999852</td>\n",
       "      <td>1.224647e-16</td>\n",
       "      <td>-1.000000e+00</td>\n",
       "    </tr>\n",
       "  </tbody>\n",
       "</table>\n",
       "<p>5 rows × 23 columns</p>\n",
       "</div>"
      ],
      "text/plain": [
       "                 date  numer_sta   Latitude  Longitude  Altitude      pmer  \\\n",
       "0 2010-01-01 00:00:00     7510.0  44.830667  -0.691333      47.0   99050.0   \n",
       "1 2010-01-01 03:00:00     7510.0  44.830667  -0.691333      47.0   99160.0   \n",
       "2 2010-01-01 06:00:00     7510.0  44.830667  -0.691333      47.0   99570.0   \n",
       "3 2010-01-01 09:00:00     7510.0  44.830667  -0.691333      47.0   99990.0   \n",
       "4 2010-01-01 12:00:00     7510.0  44.830667  -0.691333      47.0  100350.0   \n",
       "\n",
       "      dd    ff    t     u  ...    dd_sin    dd_cos      time   date_only  day  \\\n",
       "0  230.0   9.8  9.6  81.0  ... -0.766044 -0.642788  00:00:00  2010-01-01    1   \n",
       "1  250.0  11.8  8.7  87.0  ... -0.939693 -0.342020  03:00:00  2010-01-01    1   \n",
       "2  290.0   5.1  7.6  91.0  ... -0.939693  0.342020  06:00:00  2010-01-01    1   \n",
       "3  310.0   5.7  6.8  92.0  ... -0.766044  0.642788  09:00:00  2010-01-01    1   \n",
       "4  310.0   6.2  6.6  82.0  ... -0.766044  0.642788  12:00:00  2010-01-01    1   \n",
       "\n",
       "  hour   day_sin   day_cos      hour_sin      hour_cos  \n",
       "0    0  0.017213  0.999852  0.000000e+00  1.000000e+00  \n",
       "1    3  0.017213  0.999852  7.071068e-01  7.071068e-01  \n",
       "2    6  0.017213  0.999852  1.000000e+00  6.123234e-17  \n",
       "3    9  0.017213  0.999852  7.071068e-01 -7.071068e-01  \n",
       "4   12  0.017213  0.999852  1.224647e-16 -1.000000e+00  \n",
       "\n",
       "[5 rows x 23 columns]"
      ]
     },
     "execution_count": 115,
     "metadata": {},
     "output_type": "execute_result"
    }
   ],
   "source": [
    "df.head()"
   ]
  },
  {
   "cell_type": "markdown",
   "metadata": {},
   "source": [
    "We can get rid of the columns we don't need\n",
    "- \"date\", 'time', 'date_only', 'day', 'hour' are no longer needed because we extracted the cyclic information as the sin and cos of the days of the year and of the time\n",
    "- \"number_sta\" is not required as it is represented by the longitude and latitude of the station\n",
    "- \"dd\" is no longer needed because it's cyclic representation is provided by dd_sin and dd_cos"
   ]
  },
  {
   "cell_type": "code",
   "execution_count": 116,
   "metadata": {},
   "outputs": [],
   "source": [
    "df = df.drop(columns=['date', 'numer_sta', 'time', 'date_only', 'day', 'hour', 'dd'])"
   ]
  },
  {
   "cell_type": "code",
   "execution_count": 117,
   "metadata": {},
   "outputs": [
    {
     "data": {
      "text/html": [
       "<div>\n",
       "<style scoped>\n",
       "    .dataframe tbody tr th:only-of-type {\n",
       "        vertical-align: middle;\n",
       "    }\n",
       "\n",
       "    .dataframe tbody tr th {\n",
       "        vertical-align: top;\n",
       "    }\n",
       "\n",
       "    .dataframe thead th {\n",
       "        text-align: right;\n",
       "    }\n",
       "</style>\n",
       "<table border=\"1\" class=\"dataframe\">\n",
       "  <thead>\n",
       "    <tr style=\"text-align: right;\">\n",
       "      <th></th>\n",
       "      <th>Latitude</th>\n",
       "      <th>Longitude</th>\n",
       "      <th>Altitude</th>\n",
       "      <th>pmer</th>\n",
       "      <th>ff</th>\n",
       "      <th>t</th>\n",
       "      <th>u</th>\n",
       "      <th>ssfrai</th>\n",
       "      <th>rr3</th>\n",
       "      <th>pres</th>\n",
       "      <th>dd_sin</th>\n",
       "      <th>dd_cos</th>\n",
       "      <th>day_sin</th>\n",
       "      <th>day_cos</th>\n",
       "      <th>hour_sin</th>\n",
       "      <th>hour_cos</th>\n",
       "    </tr>\n",
       "  </thead>\n",
       "  <tbody>\n",
       "    <tr>\n",
       "      <th>0</th>\n",
       "      <td>44.830667</td>\n",
       "      <td>-0.691333</td>\n",
       "      <td>47.0</td>\n",
       "      <td>99050.0</td>\n",
       "      <td>9.8</td>\n",
       "      <td>9.6</td>\n",
       "      <td>81.0</td>\n",
       "      <td>0.0</td>\n",
       "      <td>0</td>\n",
       "      <td>98410.0</td>\n",
       "      <td>-0.766044</td>\n",
       "      <td>-0.642788</td>\n",
       "      <td>0.017213</td>\n",
       "      <td>0.999852</td>\n",
       "      <td>0.000000e+00</td>\n",
       "      <td>1.000000e+00</td>\n",
       "    </tr>\n",
       "    <tr>\n",
       "      <th>1</th>\n",
       "      <td>44.830667</td>\n",
       "      <td>-0.691333</td>\n",
       "      <td>47.0</td>\n",
       "      <td>99160.0</td>\n",
       "      <td>11.8</td>\n",
       "      <td>8.7</td>\n",
       "      <td>87.0</td>\n",
       "      <td>0.0</td>\n",
       "      <td>0</td>\n",
       "      <td>98520.0</td>\n",
       "      <td>-0.939693</td>\n",
       "      <td>-0.342020</td>\n",
       "      <td>0.017213</td>\n",
       "      <td>0.999852</td>\n",
       "      <td>7.071068e-01</td>\n",
       "      <td>7.071068e-01</td>\n",
       "    </tr>\n",
       "    <tr>\n",
       "      <th>2</th>\n",
       "      <td>44.830667</td>\n",
       "      <td>-0.691333</td>\n",
       "      <td>47.0</td>\n",
       "      <td>99570.0</td>\n",
       "      <td>5.1</td>\n",
       "      <td>7.6</td>\n",
       "      <td>91.0</td>\n",
       "      <td>0.0</td>\n",
       "      <td>0</td>\n",
       "      <td>98920.0</td>\n",
       "      <td>-0.939693</td>\n",
       "      <td>0.342020</td>\n",
       "      <td>0.017213</td>\n",
       "      <td>0.999852</td>\n",
       "      <td>1.000000e+00</td>\n",
       "      <td>6.123234e-17</td>\n",
       "    </tr>\n",
       "    <tr>\n",
       "      <th>3</th>\n",
       "      <td>44.830667</td>\n",
       "      <td>-0.691333</td>\n",
       "      <td>47.0</td>\n",
       "      <td>99990.0</td>\n",
       "      <td>5.7</td>\n",
       "      <td>6.8</td>\n",
       "      <td>92.0</td>\n",
       "      <td>0.0</td>\n",
       "      <td>0</td>\n",
       "      <td>99340.0</td>\n",
       "      <td>-0.766044</td>\n",
       "      <td>0.642788</td>\n",
       "      <td>0.017213</td>\n",
       "      <td>0.999852</td>\n",
       "      <td>7.071068e-01</td>\n",
       "      <td>-7.071068e-01</td>\n",
       "    </tr>\n",
       "    <tr>\n",
       "      <th>4</th>\n",
       "      <td>44.830667</td>\n",
       "      <td>-0.691333</td>\n",
       "      <td>47.0</td>\n",
       "      <td>100350.0</td>\n",
       "      <td>6.2</td>\n",
       "      <td>6.6</td>\n",
       "      <td>82.0</td>\n",
       "      <td>0.0</td>\n",
       "      <td>0</td>\n",
       "      <td>99690.0</td>\n",
       "      <td>-0.766044</td>\n",
       "      <td>0.642788</td>\n",
       "      <td>0.017213</td>\n",
       "      <td>0.999852</td>\n",
       "      <td>1.224647e-16</td>\n",
       "      <td>-1.000000e+00</td>\n",
       "    </tr>\n",
       "  </tbody>\n",
       "</table>\n",
       "</div>"
      ],
      "text/plain": [
       "    Latitude  Longitude  Altitude      pmer    ff    t     u  ssfrai  rr3  \\\n",
       "0  44.830667  -0.691333      47.0   99050.0   9.8  9.6  81.0     0.0    0   \n",
       "1  44.830667  -0.691333      47.0   99160.0  11.8  8.7  87.0     0.0    0   \n",
       "2  44.830667  -0.691333      47.0   99570.0   5.1  7.6  91.0     0.0    0   \n",
       "3  44.830667  -0.691333      47.0   99990.0   5.7  6.8  92.0     0.0    0   \n",
       "4  44.830667  -0.691333      47.0  100350.0   6.2  6.6  82.0     0.0    0   \n",
       "\n",
       "      pres    dd_sin    dd_cos   day_sin   day_cos      hour_sin      hour_cos  \n",
       "0  98410.0 -0.766044 -0.642788  0.017213  0.999852  0.000000e+00  1.000000e+00  \n",
       "1  98520.0 -0.939693 -0.342020  0.017213  0.999852  7.071068e-01  7.071068e-01  \n",
       "2  98920.0 -0.939693  0.342020  0.017213  0.999852  1.000000e+00  6.123234e-17  \n",
       "3  99340.0 -0.766044  0.642788  0.017213  0.999852  7.071068e-01 -7.071068e-01  \n",
       "4  99690.0 -0.766044  0.642788  0.017213  0.999852  1.224647e-16 -1.000000e+00  "
      ]
     },
     "execution_count": 117,
     "metadata": {},
     "output_type": "execute_result"
    }
   ],
   "source": [
    "df.head()"
   ]
  },
  {
   "cell_type": "markdown",
   "metadata": {},
   "source": [
    "Our dataset is clean and we have features that are interpretable by our model"
   ]
  },
  {
   "cell_type": "markdown",
   "metadata": {},
   "source": [
    "# 4 - Defining our strategy "
   ]
  },
  {
   "cell_type": "markdown",
   "metadata": {},
   "source": [
    "We are facing a binary classification problem, let's have a look at our target"
   ]
  },
  {
   "cell_type": "code",
   "execution_count": 140,
   "metadata": {},
   "outputs": [
    {
     "data": {
      "text/plain": [
       "array([0, 1])"
      ]
     },
     "execution_count": 140,
     "metadata": {},
     "output_type": "execute_result"
    }
   ],
   "source": [
    "df['rr3'].unique()"
   ]
  },
  {
   "cell_type": "markdown",
   "metadata": {},
   "source": [
    "We have two categories for \"rr3\":\n",
    "- 0 = not rain\n",
    "- 1 = rain"
   ]
  },
  {
   "cell_type": "markdown",
   "metadata": {},
   "source": [
    "Are the occurence of these two categories balanced?"
   ]
  },
  {
   "cell_type": "code",
   "execution_count": 119,
   "metadata": {},
   "outputs": [
    {
     "data": {
      "text/plain": [
       "0.9819704384794108"
      ]
     },
     "execution_count": 119,
     "metadata": {},
     "output_type": "execute_result"
    }
   ],
   "source": [
    "(df['rr3'] == 0).sum() / df.shape[0]"
   ]
  },
  {
   "cell_type": "markdown",
   "metadata": {},
   "source": [
    "The dataset is heavily imbalanced, about 2 rain events out of 100 events, ouch!"
   ]
  },
  {
   "cell_type": "markdown",
   "metadata": {},
   "source": [
    "We make the assumption that cost of False Negative (FN) is more important than the cost of False Positive (FP). In other words, we prefer to be able to catch the most part of the true rain event (low FN), event if it affect the rate of rain event that or not (high FP). "
   ]
  },
  {
   "cell_type": "markdown",
   "metadata": {},
   "source": [
    "So, we will have to:\n",
    "* Use metrics other than accuracy since it is not appropriated for imbalanced in classification problems.\n",
    "* or use oversampling strategies to balance the classes (i.e. SMOTETomek).\n",
    "* We will have to fine tune the model in order to reach our assumption (i.e. False Negative have more cost than False Positive)\n",
    "* We will use an XGBClassifier for it's robusness and efficiency "
   ]
  },
  {
   "cell_type": "markdown",
   "metadata": {},
   "source": [
    "# 5 - Training the model"
   ]
  },
  {
   "cell_type": "markdown",
   "metadata": {},
   "source": [
    "I will use two approaches here:\n",
    "* Without data augmentation (passing the scale_pos_weight argument to the XGBClassifier to correct the imbalance problem) \n",
    "* With data augmentation (i.e. oversampling using SOMETETomek)"
   ]
  },
  {
   "cell_type": "code",
   "execution_count": 144,
   "metadata": {},
   "outputs": [
    {
     "name": "stdout",
     "output_type": "stream",
     "text": [
      "Original class distribution: Counter({0: 446927, 1: 8225})\n",
      "ratio of negative to positive class in y_train: 54.33762917933131\n",
      "After oversampling: Counter({0: 443683, 1: 443683})\n"
     ]
    }
   ],
   "source": [
    "# we import sklearn to built the data pipeline\n",
    "from sklearn.pipeline import Pipeline\n",
    "from sklearn.compose import ColumnTransformer\n",
    "from sklearn.preprocessing import StandardScaler\n",
    "from sklearn.pipeline import make_pipeline\n",
    "from xgboost import XGBClassifier\n",
    "from sklearn.model_selection import train_test_split\n",
    "from sklearn import set_config\n",
    "from sklearn.preprocessing import PowerTransformer\n",
    "from sklearn.decomposition import PCA\n",
    "from imblearn.combine import SMOTETomek\n",
    "from collections import Counter\n",
    "\n",
    "# we will split the data into train and test\n",
    "y = df['rr3']\n",
    "X = df.drop(columns=['rr3'])\n",
    "\n",
    "# Split the data into train and test\n",
    "X_train, X_test, y_train, y_test = train_test_split(X, y, test_size=0.1, random_state=42)\n",
    "\n",
    "# Check the original class distribution\n",
    "print(\"Original class distribution:\", Counter(y_train))\n",
    "\n",
    "# Calculate the ratio of negative to positive class, we will need it for the XGBoost parameter scale_pos_weight\n",
    "radio_neg_to_pos = (y_train == 0).sum() / (y_train == 1).sum()\n",
    "print(f\"ratio of negative to positive class in y_train: {radio_neg_to_pos}\")\n",
    "\n",
    "# Oversample the minority class\n",
    "smtom = SMOTETomek(random_state=42) # Match the minority class size to the majority class\n",
    "X_balanced, y_balanced = smtom.fit_resample(X_train, y_train)\n",
    "\n",
    "print(\"After oversampling:\", Counter(y_balanced))\n",
    "\n",
    "# We will standardize the data (Optional for XGBoost but needed for PCA, showed here for completeness)\n",
    "num_pipeline = Pipeline([\n",
    "    ('std_scaler', StandardScaler())\n",
    "    ])\n",
    "\n",
    "# We will not transform the cyclical features\n",
    "null_transformer = Pipeline([\n",
    "    ('no_transform', 'passthrough')\n",
    "    ])  \n",
    "\n",
    "# We will transform the target variable to a normal distribution (Optional for XGBoost but needed for other model, showed here for completeness)\n",
    "pt = PowerTransformer(method='yeo-johnson', standardize=True) # Optional, needed if comparing to other models that require normality (i.e. LDA, Gaussian Naive Bayes)\n",
    "\n",
    "# We will use the ColumnTransformer to apply the transformations to the correct columns\n",
    "preprocessor = ColumnTransformer([\n",
    "    ('num_transformer', num_pipeline, ['Latitude', 'Longitude', 'Altitude', 'ff', 't', 'u', 'ssfrai','pres', 'pmer']),\n",
    "    ('null_transformer', null_transformer, ['dd_sin', 'dd_cos', 'day_sin', 'day_cos', 'hour_sin','hour_cos']),\n",
    "    ])\n",
    "\n",
    "# We will use PCA to reduce the number of features (Optional, if the reduction of the number of features is needed, showed here for completeness)\n",
    "pca = PCA(n_components=0.95) # Optional, if the reduction of the number of features is needed \n",
    "\n",
    "# We create our two pipelines, one with oversampling and one without\n",
    "pipeline_workflow = make_pipeline(preprocessor, XGBClassifier(eval_metric=\"logloss\", scale_pos_weight=radio_neg_to_pos))\n",
    "pipeline_workflow_oversampling = make_pipeline(preprocessor, XGBClassifier(eval_metric=\"logloss\"))\n",
    "set_config(display=\"diagram\")"
   ]
  },
  {
   "cell_type": "code",
   "execution_count": 145,
   "metadata": {},
   "outputs": [
    {
     "data": {
      "text/html": [
       "<style>#sk-container-id-10 {color: black;}#sk-container-id-10 pre{padding: 0;}#sk-container-id-10 div.sk-toggleable {background-color: white;}#sk-container-id-10 label.sk-toggleable__label {cursor: pointer;display: block;width: 100%;margin-bottom: 0;padding: 0.3em;box-sizing: border-box;text-align: center;}#sk-container-id-10 label.sk-toggleable__label-arrow:before {content: \"▸\";float: left;margin-right: 0.25em;color: #696969;}#sk-container-id-10 label.sk-toggleable__label-arrow:hover:before {color: black;}#sk-container-id-10 div.sk-estimator:hover label.sk-toggleable__label-arrow:before {color: black;}#sk-container-id-10 div.sk-toggleable__content {max-height: 0;max-width: 0;overflow: hidden;text-align: left;background-color: #f0f8ff;}#sk-container-id-10 div.sk-toggleable__content pre {margin: 0.2em;color: black;border-radius: 0.25em;background-color: #f0f8ff;}#sk-container-id-10 input.sk-toggleable__control:checked~div.sk-toggleable__content {max-height: 200px;max-width: 100%;overflow: auto;}#sk-container-id-10 input.sk-toggleable__control:checked~label.sk-toggleable__label-arrow:before {content: \"▾\";}#sk-container-id-10 div.sk-estimator input.sk-toggleable__control:checked~label.sk-toggleable__label {background-color: #d4ebff;}#sk-container-id-10 div.sk-label input.sk-toggleable__control:checked~label.sk-toggleable__label {background-color: #d4ebff;}#sk-container-id-10 input.sk-hidden--visually {border: 0;clip: rect(1px 1px 1px 1px);clip: rect(1px, 1px, 1px, 1px);height: 1px;margin: -1px;overflow: hidden;padding: 0;position: absolute;width: 1px;}#sk-container-id-10 div.sk-estimator {font-family: monospace;background-color: #f0f8ff;border: 1px dotted black;border-radius: 0.25em;box-sizing: border-box;margin-bottom: 0.5em;}#sk-container-id-10 div.sk-estimator:hover {background-color: #d4ebff;}#sk-container-id-10 div.sk-parallel-item::after {content: \"\";width: 100%;border-bottom: 1px solid gray;flex-grow: 1;}#sk-container-id-10 div.sk-label:hover label.sk-toggleable__label {background-color: #d4ebff;}#sk-container-id-10 div.sk-serial::before {content: \"\";position: absolute;border-left: 1px solid gray;box-sizing: border-box;top: 0;bottom: 0;left: 50%;z-index: 0;}#sk-container-id-10 div.sk-serial {display: flex;flex-direction: column;align-items: center;background-color: white;padding-right: 0.2em;padding-left: 0.2em;position: relative;}#sk-container-id-10 div.sk-item {position: relative;z-index: 1;}#sk-container-id-10 div.sk-parallel {display: flex;align-items: stretch;justify-content: center;background-color: white;position: relative;}#sk-container-id-10 div.sk-item::before, #sk-container-id-10 div.sk-parallel-item::before {content: \"\";position: absolute;border-left: 1px solid gray;box-sizing: border-box;top: 0;bottom: 0;left: 50%;z-index: -1;}#sk-container-id-10 div.sk-parallel-item {display: flex;flex-direction: column;z-index: 1;position: relative;background-color: white;}#sk-container-id-10 div.sk-parallel-item:first-child::after {align-self: flex-end;width: 50%;}#sk-container-id-10 div.sk-parallel-item:last-child::after {align-self: flex-start;width: 50%;}#sk-container-id-10 div.sk-parallel-item:only-child::after {width: 0;}#sk-container-id-10 div.sk-dashed-wrapped {border: 1px dashed gray;margin: 0 0.4em 0.5em 0.4em;box-sizing: border-box;padding-bottom: 0.4em;background-color: white;}#sk-container-id-10 div.sk-label label {font-family: monospace;font-weight: bold;display: inline-block;line-height: 1.2em;}#sk-container-id-10 div.sk-label-container {text-align: center;}#sk-container-id-10 div.sk-container {/* jupyter's `normalize.less` sets `[hidden] { display: none; }` but bootstrap.min.css set `[hidden] { display: none !important; }` so we also need the `!important` here to be able to override the default hidden behavior on the sphinx rendered scikit-learn.org. See: https://github.com/scikit-learn/scikit-learn/issues/21755 */display: inline-block !important;position: relative;}#sk-container-id-10 div.sk-text-repr-fallback {display: none;}</style><div id=\"sk-container-id-10\" class=\"sk-top-container\"><div class=\"sk-text-repr-fallback\"><pre>Pipeline(steps=[(&#x27;columntransformer&#x27;,\n",
       "                 ColumnTransformer(transformers=[(&#x27;num_transformer&#x27;,\n",
       "                                                  Pipeline(steps=[(&#x27;std_scaler&#x27;,\n",
       "                                                                   StandardScaler())]),\n",
       "                                                  [&#x27;Latitude&#x27;, &#x27;Longitude&#x27;,\n",
       "                                                   &#x27;Altitude&#x27;, &#x27;ff&#x27;, &#x27;t&#x27;, &#x27;u&#x27;,\n",
       "                                                   &#x27;ssfrai&#x27;, &#x27;pres&#x27;, &#x27;pmer&#x27;]),\n",
       "                                                 (&#x27;null_transformer&#x27;,\n",
       "                                                  Pipeline(steps=[(&#x27;no_transform&#x27;,\n",
       "                                                                   &#x27;passthrough&#x27;)]),\n",
       "                                                  [&#x27;dd_sin&#x27;, &#x27;dd_cos&#x27;,\n",
       "                                                   &#x27;day_sin&#x27;, &#x27;day_cos&#x27;,\n",
       "                                                   &#x27;hour_sin&#x27;, &#x27;hour_cos&#x27;])])),\n",
       "                (&#x27;xg...\n",
       "                               gamma=None, gpu_id=None, grow_policy=None,\n",
       "                               importance_type=None,\n",
       "                               interaction_constraints=None, learning_rate=None,\n",
       "                               max_bin=None, max_cat_to_onehot=None,\n",
       "                               max_delta_step=None, max_depth=None,\n",
       "                               max_leaves=None, min_child_weight=None,\n",
       "                               missing=nan, monotone_constraints=None,\n",
       "                               n_estimators=100, n_jobs=None,\n",
       "                               num_parallel_tree=None, predictor=None,\n",
       "                               random_state=None, reg_alpha=None,\n",
       "                               reg_lambda=None, ...))])</pre><b>In a Jupyter environment, please rerun this cell to show the HTML representation or trust the notebook. <br />On GitHub, the HTML representation is unable to render, please try loading this page with nbviewer.org.</b></div><div class=\"sk-container\" hidden><div class=\"sk-item sk-dashed-wrapped\"><div class=\"sk-label-container\"><div class=\"sk-label sk-toggleable\"><input class=\"sk-toggleable__control sk-hidden--visually\" id=\"sk-estimator-id-64\" type=\"checkbox\" ><label for=\"sk-estimator-id-64\" class=\"sk-toggleable__label sk-toggleable__label-arrow\">Pipeline</label><div class=\"sk-toggleable__content\"><pre>Pipeline(steps=[(&#x27;columntransformer&#x27;,\n",
       "                 ColumnTransformer(transformers=[(&#x27;num_transformer&#x27;,\n",
       "                                                  Pipeline(steps=[(&#x27;std_scaler&#x27;,\n",
       "                                                                   StandardScaler())]),\n",
       "                                                  [&#x27;Latitude&#x27;, &#x27;Longitude&#x27;,\n",
       "                                                   &#x27;Altitude&#x27;, &#x27;ff&#x27;, &#x27;t&#x27;, &#x27;u&#x27;,\n",
       "                                                   &#x27;ssfrai&#x27;, &#x27;pres&#x27;, &#x27;pmer&#x27;]),\n",
       "                                                 (&#x27;null_transformer&#x27;,\n",
       "                                                  Pipeline(steps=[(&#x27;no_transform&#x27;,\n",
       "                                                                   &#x27;passthrough&#x27;)]),\n",
       "                                                  [&#x27;dd_sin&#x27;, &#x27;dd_cos&#x27;,\n",
       "                                                   &#x27;day_sin&#x27;, &#x27;day_cos&#x27;,\n",
       "                                                   &#x27;hour_sin&#x27;, &#x27;hour_cos&#x27;])])),\n",
       "                (&#x27;xg...\n",
       "                               gamma=None, gpu_id=None, grow_policy=None,\n",
       "                               importance_type=None,\n",
       "                               interaction_constraints=None, learning_rate=None,\n",
       "                               max_bin=None, max_cat_to_onehot=None,\n",
       "                               max_delta_step=None, max_depth=None,\n",
       "                               max_leaves=None, min_child_weight=None,\n",
       "                               missing=nan, monotone_constraints=None,\n",
       "                               n_estimators=100, n_jobs=None,\n",
       "                               num_parallel_tree=None, predictor=None,\n",
       "                               random_state=None, reg_alpha=None,\n",
       "                               reg_lambda=None, ...))])</pre></div></div></div><div class=\"sk-serial\"><div class=\"sk-item sk-dashed-wrapped\"><div class=\"sk-label-container\"><div class=\"sk-label sk-toggleable\"><input class=\"sk-toggleable__control sk-hidden--visually\" id=\"sk-estimator-id-65\" type=\"checkbox\" ><label for=\"sk-estimator-id-65\" class=\"sk-toggleable__label sk-toggleable__label-arrow\">columntransformer: ColumnTransformer</label><div class=\"sk-toggleable__content\"><pre>ColumnTransformer(transformers=[(&#x27;num_transformer&#x27;,\n",
       "                                 Pipeline(steps=[(&#x27;std_scaler&#x27;,\n",
       "                                                  StandardScaler())]),\n",
       "                                 [&#x27;Latitude&#x27;, &#x27;Longitude&#x27;, &#x27;Altitude&#x27;, &#x27;ff&#x27;,\n",
       "                                  &#x27;t&#x27;, &#x27;u&#x27;, &#x27;ssfrai&#x27;, &#x27;pres&#x27;, &#x27;pmer&#x27;]),\n",
       "                                (&#x27;null_transformer&#x27;,\n",
       "                                 Pipeline(steps=[(&#x27;no_transform&#x27;,\n",
       "                                                  &#x27;passthrough&#x27;)]),\n",
       "                                 [&#x27;dd_sin&#x27;, &#x27;dd_cos&#x27;, &#x27;day_sin&#x27;, &#x27;day_cos&#x27;,\n",
       "                                  &#x27;hour_sin&#x27;, &#x27;hour_cos&#x27;])])</pre></div></div></div><div class=\"sk-parallel\"><div class=\"sk-parallel-item\"><div class=\"sk-item\"><div class=\"sk-label-container\"><div class=\"sk-label sk-toggleable\"><input class=\"sk-toggleable__control sk-hidden--visually\" id=\"sk-estimator-id-66\" type=\"checkbox\" ><label for=\"sk-estimator-id-66\" class=\"sk-toggleable__label sk-toggleable__label-arrow\">num_transformer</label><div class=\"sk-toggleable__content\"><pre>[&#x27;Latitude&#x27;, &#x27;Longitude&#x27;, &#x27;Altitude&#x27;, &#x27;ff&#x27;, &#x27;t&#x27;, &#x27;u&#x27;, &#x27;ssfrai&#x27;, &#x27;pres&#x27;, &#x27;pmer&#x27;]</pre></div></div></div><div class=\"sk-serial\"><div class=\"sk-item\"><div class=\"sk-serial\"><div class=\"sk-item\"><div class=\"sk-estimator sk-toggleable\"><input class=\"sk-toggleable__control sk-hidden--visually\" id=\"sk-estimator-id-67\" type=\"checkbox\" ><label for=\"sk-estimator-id-67\" class=\"sk-toggleable__label sk-toggleable__label-arrow\">StandardScaler</label><div class=\"sk-toggleable__content\"><pre>StandardScaler()</pre></div></div></div></div></div></div></div></div><div class=\"sk-parallel-item\"><div class=\"sk-item\"><div class=\"sk-label-container\"><div class=\"sk-label sk-toggleable\"><input class=\"sk-toggleable__control sk-hidden--visually\" id=\"sk-estimator-id-68\" type=\"checkbox\" ><label for=\"sk-estimator-id-68\" class=\"sk-toggleable__label sk-toggleable__label-arrow\">null_transformer</label><div class=\"sk-toggleable__content\"><pre>[&#x27;dd_sin&#x27;, &#x27;dd_cos&#x27;, &#x27;day_sin&#x27;, &#x27;day_cos&#x27;, &#x27;hour_sin&#x27;, &#x27;hour_cos&#x27;]</pre></div></div></div><div class=\"sk-serial\"><div class=\"sk-item\"><div class=\"sk-serial\"><div class=\"sk-item\"><div class=\"sk-estimator sk-toggleable\"><input class=\"sk-toggleable__control sk-hidden--visually\" id=\"sk-estimator-id-69\" type=\"checkbox\" ><label for=\"sk-estimator-id-69\" class=\"sk-toggleable__label sk-toggleable__label-arrow\">passthrough</label><div class=\"sk-toggleable__content\"><pre>passthrough</pre></div></div></div></div></div></div></div></div></div></div><div class=\"sk-item\"><div class=\"sk-estimator sk-toggleable\"><input class=\"sk-toggleable__control sk-hidden--visually\" id=\"sk-estimator-id-70\" type=\"checkbox\" ><label for=\"sk-estimator-id-70\" class=\"sk-toggleable__label sk-toggleable__label-arrow\">XGBClassifier</label><div class=\"sk-toggleable__content\"><pre>XGBClassifier(base_score=None, booster=None, callbacks=None,\n",
       "              colsample_bylevel=None, colsample_bynode=None,\n",
       "              colsample_bytree=None, early_stopping_rounds=None,\n",
       "              enable_categorical=False, eval_metric=&#x27;logloss&#x27;, gamma=None,\n",
       "              gpu_id=None, grow_policy=None, importance_type=None,\n",
       "              interaction_constraints=None, learning_rate=None, max_bin=None,\n",
       "              max_cat_to_onehot=None, max_delta_step=None, max_depth=None,\n",
       "              max_leaves=None, min_child_weight=None, missing=nan,\n",
       "              monotone_constraints=None, n_estimators=100, n_jobs=None,\n",
       "              num_parallel_tree=None, predictor=None, random_state=None,\n",
       "              reg_alpha=None, reg_lambda=None, ...)</pre></div></div></div></div></div></div></div>"
      ],
      "text/plain": [
       "Pipeline(steps=[('columntransformer',\n",
       "                 ColumnTransformer(transformers=[('num_transformer',\n",
       "                                                  Pipeline(steps=[('std_scaler',\n",
       "                                                                   StandardScaler())]),\n",
       "                                                  ['Latitude', 'Longitude',\n",
       "                                                   'Altitude', 'ff', 't', 'u',\n",
       "                                                   'ssfrai', 'pres', 'pmer']),\n",
       "                                                 ('null_transformer',\n",
       "                                                  Pipeline(steps=[('no_transform',\n",
       "                                                                   'passthrough')]),\n",
       "                                                  ['dd_sin', 'dd_cos',\n",
       "                                                   'day_sin', 'day_cos',\n",
       "                                                   'hour_sin', 'hour_cos'])])),\n",
       "                ('xg...\n",
       "                               gamma=None, gpu_id=None, grow_policy=None,\n",
       "                               importance_type=None,\n",
       "                               interaction_constraints=None, learning_rate=None,\n",
       "                               max_bin=None, max_cat_to_onehot=None,\n",
       "                               max_delta_step=None, max_depth=None,\n",
       "                               max_leaves=None, min_child_weight=None,\n",
       "                               missing=nan, monotone_constraints=None,\n",
       "                               n_estimators=100, n_jobs=None,\n",
       "                               num_parallel_tree=None, predictor=None,\n",
       "                               random_state=None, reg_alpha=None,\n",
       "                               reg_lambda=None, ...))])"
      ]
     },
     "execution_count": 145,
     "metadata": {},
     "output_type": "execute_result"
    }
   ],
   "source": [
    "#create the diagram of the pipeline without oversampling\n",
    "pipeline_workflow"
   ]
  },
  {
   "cell_type": "code",
   "execution_count": 146,
   "metadata": {},
   "outputs": [
    {
     "data": {
      "text/html": [
       "<style>#sk-container-id-11 {color: black;}#sk-container-id-11 pre{padding: 0;}#sk-container-id-11 div.sk-toggleable {background-color: white;}#sk-container-id-11 label.sk-toggleable__label {cursor: pointer;display: block;width: 100%;margin-bottom: 0;padding: 0.3em;box-sizing: border-box;text-align: center;}#sk-container-id-11 label.sk-toggleable__label-arrow:before {content: \"▸\";float: left;margin-right: 0.25em;color: #696969;}#sk-container-id-11 label.sk-toggleable__label-arrow:hover:before {color: black;}#sk-container-id-11 div.sk-estimator:hover label.sk-toggleable__label-arrow:before {color: black;}#sk-container-id-11 div.sk-toggleable__content {max-height: 0;max-width: 0;overflow: hidden;text-align: left;background-color: #f0f8ff;}#sk-container-id-11 div.sk-toggleable__content pre {margin: 0.2em;color: black;border-radius: 0.25em;background-color: #f0f8ff;}#sk-container-id-11 input.sk-toggleable__control:checked~div.sk-toggleable__content {max-height: 200px;max-width: 100%;overflow: auto;}#sk-container-id-11 input.sk-toggleable__control:checked~label.sk-toggleable__label-arrow:before {content: \"▾\";}#sk-container-id-11 div.sk-estimator input.sk-toggleable__control:checked~label.sk-toggleable__label {background-color: #d4ebff;}#sk-container-id-11 div.sk-label input.sk-toggleable__control:checked~label.sk-toggleable__label {background-color: #d4ebff;}#sk-container-id-11 input.sk-hidden--visually {border: 0;clip: rect(1px 1px 1px 1px);clip: rect(1px, 1px, 1px, 1px);height: 1px;margin: -1px;overflow: hidden;padding: 0;position: absolute;width: 1px;}#sk-container-id-11 div.sk-estimator {font-family: monospace;background-color: #f0f8ff;border: 1px dotted black;border-radius: 0.25em;box-sizing: border-box;margin-bottom: 0.5em;}#sk-container-id-11 div.sk-estimator:hover {background-color: #d4ebff;}#sk-container-id-11 div.sk-parallel-item::after {content: \"\";width: 100%;border-bottom: 1px solid gray;flex-grow: 1;}#sk-container-id-11 div.sk-label:hover label.sk-toggleable__label {background-color: #d4ebff;}#sk-container-id-11 div.sk-serial::before {content: \"\";position: absolute;border-left: 1px solid gray;box-sizing: border-box;top: 0;bottom: 0;left: 50%;z-index: 0;}#sk-container-id-11 div.sk-serial {display: flex;flex-direction: column;align-items: center;background-color: white;padding-right: 0.2em;padding-left: 0.2em;position: relative;}#sk-container-id-11 div.sk-item {position: relative;z-index: 1;}#sk-container-id-11 div.sk-parallel {display: flex;align-items: stretch;justify-content: center;background-color: white;position: relative;}#sk-container-id-11 div.sk-item::before, #sk-container-id-11 div.sk-parallel-item::before {content: \"\";position: absolute;border-left: 1px solid gray;box-sizing: border-box;top: 0;bottom: 0;left: 50%;z-index: -1;}#sk-container-id-11 div.sk-parallel-item {display: flex;flex-direction: column;z-index: 1;position: relative;background-color: white;}#sk-container-id-11 div.sk-parallel-item:first-child::after {align-self: flex-end;width: 50%;}#sk-container-id-11 div.sk-parallel-item:last-child::after {align-self: flex-start;width: 50%;}#sk-container-id-11 div.sk-parallel-item:only-child::after {width: 0;}#sk-container-id-11 div.sk-dashed-wrapped {border: 1px dashed gray;margin: 0 0.4em 0.5em 0.4em;box-sizing: border-box;padding-bottom: 0.4em;background-color: white;}#sk-container-id-11 div.sk-label label {font-family: monospace;font-weight: bold;display: inline-block;line-height: 1.2em;}#sk-container-id-11 div.sk-label-container {text-align: center;}#sk-container-id-11 div.sk-container {/* jupyter's `normalize.less` sets `[hidden] { display: none; }` but bootstrap.min.css set `[hidden] { display: none !important; }` so we also need the `!important` here to be able to override the default hidden behavior on the sphinx rendered scikit-learn.org. See: https://github.com/scikit-learn/scikit-learn/issues/21755 */display: inline-block !important;position: relative;}#sk-container-id-11 div.sk-text-repr-fallback {display: none;}</style><div id=\"sk-container-id-11\" class=\"sk-top-container\"><div class=\"sk-text-repr-fallback\"><pre>Pipeline(steps=[(&#x27;columntransformer&#x27;,\n",
       "                 ColumnTransformer(transformers=[(&#x27;num_transformer&#x27;,\n",
       "                                                  Pipeline(steps=[(&#x27;std_scaler&#x27;,\n",
       "                                                                   StandardScaler())]),\n",
       "                                                  [&#x27;Latitude&#x27;, &#x27;Longitude&#x27;,\n",
       "                                                   &#x27;Altitude&#x27;, &#x27;ff&#x27;, &#x27;t&#x27;, &#x27;u&#x27;,\n",
       "                                                   &#x27;ssfrai&#x27;, &#x27;pres&#x27;, &#x27;pmer&#x27;]),\n",
       "                                                 (&#x27;null_transformer&#x27;,\n",
       "                                                  Pipeline(steps=[(&#x27;no_transform&#x27;,\n",
       "                                                                   &#x27;passthrough&#x27;)]),\n",
       "                                                  [&#x27;dd_sin&#x27;, &#x27;dd_cos&#x27;,\n",
       "                                                   &#x27;day_sin&#x27;, &#x27;day_cos&#x27;,\n",
       "                                                   &#x27;hour_sin&#x27;, &#x27;hour_cos&#x27;])])),\n",
       "                (&#x27;xg...\n",
       "                               gamma=None, gpu_id=None, grow_policy=None,\n",
       "                               importance_type=None,\n",
       "                               interaction_constraints=None, learning_rate=None,\n",
       "                               max_bin=None, max_cat_to_onehot=None,\n",
       "                               max_delta_step=None, max_depth=None,\n",
       "                               max_leaves=None, min_child_weight=None,\n",
       "                               missing=nan, monotone_constraints=None,\n",
       "                               n_estimators=100, n_jobs=None,\n",
       "                               num_parallel_tree=None, predictor=None,\n",
       "                               random_state=None, reg_alpha=None,\n",
       "                               reg_lambda=None, ...))])</pre><b>In a Jupyter environment, please rerun this cell to show the HTML representation or trust the notebook. <br />On GitHub, the HTML representation is unable to render, please try loading this page with nbviewer.org.</b></div><div class=\"sk-container\" hidden><div class=\"sk-item sk-dashed-wrapped\"><div class=\"sk-label-container\"><div class=\"sk-label sk-toggleable\"><input class=\"sk-toggleable__control sk-hidden--visually\" id=\"sk-estimator-id-71\" type=\"checkbox\" ><label for=\"sk-estimator-id-71\" class=\"sk-toggleable__label sk-toggleable__label-arrow\">Pipeline</label><div class=\"sk-toggleable__content\"><pre>Pipeline(steps=[(&#x27;columntransformer&#x27;,\n",
       "                 ColumnTransformer(transformers=[(&#x27;num_transformer&#x27;,\n",
       "                                                  Pipeline(steps=[(&#x27;std_scaler&#x27;,\n",
       "                                                                   StandardScaler())]),\n",
       "                                                  [&#x27;Latitude&#x27;, &#x27;Longitude&#x27;,\n",
       "                                                   &#x27;Altitude&#x27;, &#x27;ff&#x27;, &#x27;t&#x27;, &#x27;u&#x27;,\n",
       "                                                   &#x27;ssfrai&#x27;, &#x27;pres&#x27;, &#x27;pmer&#x27;]),\n",
       "                                                 (&#x27;null_transformer&#x27;,\n",
       "                                                  Pipeline(steps=[(&#x27;no_transform&#x27;,\n",
       "                                                                   &#x27;passthrough&#x27;)]),\n",
       "                                                  [&#x27;dd_sin&#x27;, &#x27;dd_cos&#x27;,\n",
       "                                                   &#x27;day_sin&#x27;, &#x27;day_cos&#x27;,\n",
       "                                                   &#x27;hour_sin&#x27;, &#x27;hour_cos&#x27;])])),\n",
       "                (&#x27;xg...\n",
       "                               gamma=None, gpu_id=None, grow_policy=None,\n",
       "                               importance_type=None,\n",
       "                               interaction_constraints=None, learning_rate=None,\n",
       "                               max_bin=None, max_cat_to_onehot=None,\n",
       "                               max_delta_step=None, max_depth=None,\n",
       "                               max_leaves=None, min_child_weight=None,\n",
       "                               missing=nan, monotone_constraints=None,\n",
       "                               n_estimators=100, n_jobs=None,\n",
       "                               num_parallel_tree=None, predictor=None,\n",
       "                               random_state=None, reg_alpha=None,\n",
       "                               reg_lambda=None, ...))])</pre></div></div></div><div class=\"sk-serial\"><div class=\"sk-item sk-dashed-wrapped\"><div class=\"sk-label-container\"><div class=\"sk-label sk-toggleable\"><input class=\"sk-toggleable__control sk-hidden--visually\" id=\"sk-estimator-id-72\" type=\"checkbox\" ><label for=\"sk-estimator-id-72\" class=\"sk-toggleable__label sk-toggleable__label-arrow\">columntransformer: ColumnTransformer</label><div class=\"sk-toggleable__content\"><pre>ColumnTransformer(transformers=[(&#x27;num_transformer&#x27;,\n",
       "                                 Pipeline(steps=[(&#x27;std_scaler&#x27;,\n",
       "                                                  StandardScaler())]),\n",
       "                                 [&#x27;Latitude&#x27;, &#x27;Longitude&#x27;, &#x27;Altitude&#x27;, &#x27;ff&#x27;,\n",
       "                                  &#x27;t&#x27;, &#x27;u&#x27;, &#x27;ssfrai&#x27;, &#x27;pres&#x27;, &#x27;pmer&#x27;]),\n",
       "                                (&#x27;null_transformer&#x27;,\n",
       "                                 Pipeline(steps=[(&#x27;no_transform&#x27;,\n",
       "                                                  &#x27;passthrough&#x27;)]),\n",
       "                                 [&#x27;dd_sin&#x27;, &#x27;dd_cos&#x27;, &#x27;day_sin&#x27;, &#x27;day_cos&#x27;,\n",
       "                                  &#x27;hour_sin&#x27;, &#x27;hour_cos&#x27;])])</pre></div></div></div><div class=\"sk-parallel\"><div class=\"sk-parallel-item\"><div class=\"sk-item\"><div class=\"sk-label-container\"><div class=\"sk-label sk-toggleable\"><input class=\"sk-toggleable__control sk-hidden--visually\" id=\"sk-estimator-id-73\" type=\"checkbox\" ><label for=\"sk-estimator-id-73\" class=\"sk-toggleable__label sk-toggleable__label-arrow\">num_transformer</label><div class=\"sk-toggleable__content\"><pre>[&#x27;Latitude&#x27;, &#x27;Longitude&#x27;, &#x27;Altitude&#x27;, &#x27;ff&#x27;, &#x27;t&#x27;, &#x27;u&#x27;, &#x27;ssfrai&#x27;, &#x27;pres&#x27;, &#x27;pmer&#x27;]</pre></div></div></div><div class=\"sk-serial\"><div class=\"sk-item\"><div class=\"sk-serial\"><div class=\"sk-item\"><div class=\"sk-estimator sk-toggleable\"><input class=\"sk-toggleable__control sk-hidden--visually\" id=\"sk-estimator-id-74\" type=\"checkbox\" ><label for=\"sk-estimator-id-74\" class=\"sk-toggleable__label sk-toggleable__label-arrow\">StandardScaler</label><div class=\"sk-toggleable__content\"><pre>StandardScaler()</pre></div></div></div></div></div></div></div></div><div class=\"sk-parallel-item\"><div class=\"sk-item\"><div class=\"sk-label-container\"><div class=\"sk-label sk-toggleable\"><input class=\"sk-toggleable__control sk-hidden--visually\" id=\"sk-estimator-id-75\" type=\"checkbox\" ><label for=\"sk-estimator-id-75\" class=\"sk-toggleable__label sk-toggleable__label-arrow\">null_transformer</label><div class=\"sk-toggleable__content\"><pre>[&#x27;dd_sin&#x27;, &#x27;dd_cos&#x27;, &#x27;day_sin&#x27;, &#x27;day_cos&#x27;, &#x27;hour_sin&#x27;, &#x27;hour_cos&#x27;]</pre></div></div></div><div class=\"sk-serial\"><div class=\"sk-item\"><div class=\"sk-serial\"><div class=\"sk-item\"><div class=\"sk-estimator sk-toggleable\"><input class=\"sk-toggleable__control sk-hidden--visually\" id=\"sk-estimator-id-76\" type=\"checkbox\" ><label for=\"sk-estimator-id-76\" class=\"sk-toggleable__label sk-toggleable__label-arrow\">passthrough</label><div class=\"sk-toggleable__content\"><pre>passthrough</pre></div></div></div></div></div></div></div></div></div></div><div class=\"sk-item\"><div class=\"sk-estimator sk-toggleable\"><input class=\"sk-toggleable__control sk-hidden--visually\" id=\"sk-estimator-id-77\" type=\"checkbox\" ><label for=\"sk-estimator-id-77\" class=\"sk-toggleable__label sk-toggleable__label-arrow\">XGBClassifier</label><div class=\"sk-toggleable__content\"><pre>XGBClassifier(base_score=None, booster=None, callbacks=None,\n",
       "              colsample_bylevel=None, colsample_bynode=None,\n",
       "              colsample_bytree=None, early_stopping_rounds=None,\n",
       "              enable_categorical=False, eval_metric=&#x27;logloss&#x27;, gamma=None,\n",
       "              gpu_id=None, grow_policy=None, importance_type=None,\n",
       "              interaction_constraints=None, learning_rate=None, max_bin=None,\n",
       "              max_cat_to_onehot=None, max_delta_step=None, max_depth=None,\n",
       "              max_leaves=None, min_child_weight=None, missing=nan,\n",
       "              monotone_constraints=None, n_estimators=100, n_jobs=None,\n",
       "              num_parallel_tree=None, predictor=None, random_state=None,\n",
       "              reg_alpha=None, reg_lambda=None, ...)</pre></div></div></div></div></div></div></div>"
      ],
      "text/plain": [
       "Pipeline(steps=[('columntransformer',\n",
       "                 ColumnTransformer(transformers=[('num_transformer',\n",
       "                                                  Pipeline(steps=[('std_scaler',\n",
       "                                                                   StandardScaler())]),\n",
       "                                                  ['Latitude', 'Longitude',\n",
       "                                                   'Altitude', 'ff', 't', 'u',\n",
       "                                                   'ssfrai', 'pres', 'pmer']),\n",
       "                                                 ('null_transformer',\n",
       "                                                  Pipeline(steps=[('no_transform',\n",
       "                                                                   'passthrough')]),\n",
       "                                                  ['dd_sin', 'dd_cos',\n",
       "                                                   'day_sin', 'day_cos',\n",
       "                                                   'hour_sin', 'hour_cos'])])),\n",
       "                ('xg...\n",
       "                               gamma=None, gpu_id=None, grow_policy=None,\n",
       "                               importance_type=None,\n",
       "                               interaction_constraints=None, learning_rate=None,\n",
       "                               max_bin=None, max_cat_to_onehot=None,\n",
       "                               max_delta_step=None, max_depth=None,\n",
       "                               max_leaves=None, min_child_weight=None,\n",
       "                               missing=nan, monotone_constraints=None,\n",
       "                               n_estimators=100, n_jobs=None,\n",
       "                               num_parallel_tree=None, predictor=None,\n",
       "                               random_state=None, reg_alpha=None,\n",
       "                               reg_lambda=None, ...))])"
      ]
     },
     "execution_count": 146,
     "metadata": {},
     "output_type": "execute_result"
    }
   ],
   "source": [
    "#create the diagram of the pipeline with oversampling\n",
    "pipeline_workflow_oversampling"
   ]
  },
  {
   "cell_type": "markdown",
   "metadata": {},
   "source": [
    "Now we can train our two models with respect to the pipelines"
   ]
  },
  {
   "cell_type": "code",
   "execution_count": 147,
   "metadata": {},
   "outputs": [
    {
     "data": {
      "text/html": [
       "<style>#sk-container-id-12 {color: black;}#sk-container-id-12 pre{padding: 0;}#sk-container-id-12 div.sk-toggleable {background-color: white;}#sk-container-id-12 label.sk-toggleable__label {cursor: pointer;display: block;width: 100%;margin-bottom: 0;padding: 0.3em;box-sizing: border-box;text-align: center;}#sk-container-id-12 label.sk-toggleable__label-arrow:before {content: \"▸\";float: left;margin-right: 0.25em;color: #696969;}#sk-container-id-12 label.sk-toggleable__label-arrow:hover:before {color: black;}#sk-container-id-12 div.sk-estimator:hover label.sk-toggleable__label-arrow:before {color: black;}#sk-container-id-12 div.sk-toggleable__content {max-height: 0;max-width: 0;overflow: hidden;text-align: left;background-color: #f0f8ff;}#sk-container-id-12 div.sk-toggleable__content pre {margin: 0.2em;color: black;border-radius: 0.25em;background-color: #f0f8ff;}#sk-container-id-12 input.sk-toggleable__control:checked~div.sk-toggleable__content {max-height: 200px;max-width: 100%;overflow: auto;}#sk-container-id-12 input.sk-toggleable__control:checked~label.sk-toggleable__label-arrow:before {content: \"▾\";}#sk-container-id-12 div.sk-estimator input.sk-toggleable__control:checked~label.sk-toggleable__label {background-color: #d4ebff;}#sk-container-id-12 div.sk-label input.sk-toggleable__control:checked~label.sk-toggleable__label {background-color: #d4ebff;}#sk-container-id-12 input.sk-hidden--visually {border: 0;clip: rect(1px 1px 1px 1px);clip: rect(1px, 1px, 1px, 1px);height: 1px;margin: -1px;overflow: hidden;padding: 0;position: absolute;width: 1px;}#sk-container-id-12 div.sk-estimator {font-family: monospace;background-color: #f0f8ff;border: 1px dotted black;border-radius: 0.25em;box-sizing: border-box;margin-bottom: 0.5em;}#sk-container-id-12 div.sk-estimator:hover {background-color: #d4ebff;}#sk-container-id-12 div.sk-parallel-item::after {content: \"\";width: 100%;border-bottom: 1px solid gray;flex-grow: 1;}#sk-container-id-12 div.sk-label:hover label.sk-toggleable__label {background-color: #d4ebff;}#sk-container-id-12 div.sk-serial::before {content: \"\";position: absolute;border-left: 1px solid gray;box-sizing: border-box;top: 0;bottom: 0;left: 50%;z-index: 0;}#sk-container-id-12 div.sk-serial {display: flex;flex-direction: column;align-items: center;background-color: white;padding-right: 0.2em;padding-left: 0.2em;position: relative;}#sk-container-id-12 div.sk-item {position: relative;z-index: 1;}#sk-container-id-12 div.sk-parallel {display: flex;align-items: stretch;justify-content: center;background-color: white;position: relative;}#sk-container-id-12 div.sk-item::before, #sk-container-id-12 div.sk-parallel-item::before {content: \"\";position: absolute;border-left: 1px solid gray;box-sizing: border-box;top: 0;bottom: 0;left: 50%;z-index: -1;}#sk-container-id-12 div.sk-parallel-item {display: flex;flex-direction: column;z-index: 1;position: relative;background-color: white;}#sk-container-id-12 div.sk-parallel-item:first-child::after {align-self: flex-end;width: 50%;}#sk-container-id-12 div.sk-parallel-item:last-child::after {align-self: flex-start;width: 50%;}#sk-container-id-12 div.sk-parallel-item:only-child::after {width: 0;}#sk-container-id-12 div.sk-dashed-wrapped {border: 1px dashed gray;margin: 0 0.4em 0.5em 0.4em;box-sizing: border-box;padding-bottom: 0.4em;background-color: white;}#sk-container-id-12 div.sk-label label {font-family: monospace;font-weight: bold;display: inline-block;line-height: 1.2em;}#sk-container-id-12 div.sk-label-container {text-align: center;}#sk-container-id-12 div.sk-container {/* jupyter's `normalize.less` sets `[hidden] { display: none; }` but bootstrap.min.css set `[hidden] { display: none !important; }` so we also need the `!important` here to be able to override the default hidden behavior on the sphinx rendered scikit-learn.org. See: https://github.com/scikit-learn/scikit-learn/issues/21755 */display: inline-block !important;position: relative;}#sk-container-id-12 div.sk-text-repr-fallback {display: none;}</style><div id=\"sk-container-id-12\" class=\"sk-top-container\"><div class=\"sk-text-repr-fallback\"><pre>Pipeline(steps=[(&#x27;columntransformer&#x27;,\n",
       "                 ColumnTransformer(transformers=[(&#x27;num_transformer&#x27;,\n",
       "                                                  Pipeline(steps=[(&#x27;std_scaler&#x27;,\n",
       "                                                                   StandardScaler())]),\n",
       "                                                  [&#x27;Latitude&#x27;, &#x27;Longitude&#x27;,\n",
       "                                                   &#x27;Altitude&#x27;, &#x27;ff&#x27;, &#x27;t&#x27;, &#x27;u&#x27;,\n",
       "                                                   &#x27;ssfrai&#x27;, &#x27;pres&#x27;, &#x27;pmer&#x27;]),\n",
       "                                                 (&#x27;null_transformer&#x27;,\n",
       "                                                  Pipeline(steps=[(&#x27;no_transform&#x27;,\n",
       "                                                                   &#x27;passthrough&#x27;)]),\n",
       "                                                  [&#x27;dd_sin&#x27;, &#x27;dd_cos&#x27;,\n",
       "                                                   &#x27;day_sin&#x27;, &#x27;day_cos&#x27;,\n",
       "                                                   &#x27;hour_sin&#x27;, &#x27;hour_cos&#x27;])])),\n",
       "                (&#x27;xg...\n",
       "                               gamma=0, gpu_id=-1, grow_policy=&#x27;depthwise&#x27;,\n",
       "                               importance_type=None, interaction_constraints=&#x27;&#x27;,\n",
       "                               learning_rate=0.300000012, max_bin=256,\n",
       "                               max_cat_to_onehot=4, max_delta_step=0,\n",
       "                               max_depth=6, max_leaves=0, min_child_weight=1,\n",
       "                               missing=nan, monotone_constraints=&#x27;()&#x27;,\n",
       "                               n_estimators=100, n_jobs=0, num_parallel_tree=1,\n",
       "                               predictor=&#x27;auto&#x27;, random_state=0, reg_alpha=0,\n",
       "                               reg_lambda=1, ...))])</pre><b>In a Jupyter environment, please rerun this cell to show the HTML representation or trust the notebook. <br />On GitHub, the HTML representation is unable to render, please try loading this page with nbviewer.org.</b></div><div class=\"sk-container\" hidden><div class=\"sk-item sk-dashed-wrapped\"><div class=\"sk-label-container\"><div class=\"sk-label sk-toggleable\"><input class=\"sk-toggleable__control sk-hidden--visually\" id=\"sk-estimator-id-78\" type=\"checkbox\" ><label for=\"sk-estimator-id-78\" class=\"sk-toggleable__label sk-toggleable__label-arrow\">Pipeline</label><div class=\"sk-toggleable__content\"><pre>Pipeline(steps=[(&#x27;columntransformer&#x27;,\n",
       "                 ColumnTransformer(transformers=[(&#x27;num_transformer&#x27;,\n",
       "                                                  Pipeline(steps=[(&#x27;std_scaler&#x27;,\n",
       "                                                                   StandardScaler())]),\n",
       "                                                  [&#x27;Latitude&#x27;, &#x27;Longitude&#x27;,\n",
       "                                                   &#x27;Altitude&#x27;, &#x27;ff&#x27;, &#x27;t&#x27;, &#x27;u&#x27;,\n",
       "                                                   &#x27;ssfrai&#x27;, &#x27;pres&#x27;, &#x27;pmer&#x27;]),\n",
       "                                                 (&#x27;null_transformer&#x27;,\n",
       "                                                  Pipeline(steps=[(&#x27;no_transform&#x27;,\n",
       "                                                                   &#x27;passthrough&#x27;)]),\n",
       "                                                  [&#x27;dd_sin&#x27;, &#x27;dd_cos&#x27;,\n",
       "                                                   &#x27;day_sin&#x27;, &#x27;day_cos&#x27;,\n",
       "                                                   &#x27;hour_sin&#x27;, &#x27;hour_cos&#x27;])])),\n",
       "                (&#x27;xg...\n",
       "                               gamma=0, gpu_id=-1, grow_policy=&#x27;depthwise&#x27;,\n",
       "                               importance_type=None, interaction_constraints=&#x27;&#x27;,\n",
       "                               learning_rate=0.300000012, max_bin=256,\n",
       "                               max_cat_to_onehot=4, max_delta_step=0,\n",
       "                               max_depth=6, max_leaves=0, min_child_weight=1,\n",
       "                               missing=nan, monotone_constraints=&#x27;()&#x27;,\n",
       "                               n_estimators=100, n_jobs=0, num_parallel_tree=1,\n",
       "                               predictor=&#x27;auto&#x27;, random_state=0, reg_alpha=0,\n",
       "                               reg_lambda=1, ...))])</pre></div></div></div><div class=\"sk-serial\"><div class=\"sk-item sk-dashed-wrapped\"><div class=\"sk-label-container\"><div class=\"sk-label sk-toggleable\"><input class=\"sk-toggleable__control sk-hidden--visually\" id=\"sk-estimator-id-79\" type=\"checkbox\" ><label for=\"sk-estimator-id-79\" class=\"sk-toggleable__label sk-toggleable__label-arrow\">columntransformer: ColumnTransformer</label><div class=\"sk-toggleable__content\"><pre>ColumnTransformer(transformers=[(&#x27;num_transformer&#x27;,\n",
       "                                 Pipeline(steps=[(&#x27;std_scaler&#x27;,\n",
       "                                                  StandardScaler())]),\n",
       "                                 [&#x27;Latitude&#x27;, &#x27;Longitude&#x27;, &#x27;Altitude&#x27;, &#x27;ff&#x27;,\n",
       "                                  &#x27;t&#x27;, &#x27;u&#x27;, &#x27;ssfrai&#x27;, &#x27;pres&#x27;, &#x27;pmer&#x27;]),\n",
       "                                (&#x27;null_transformer&#x27;,\n",
       "                                 Pipeline(steps=[(&#x27;no_transform&#x27;,\n",
       "                                                  &#x27;passthrough&#x27;)]),\n",
       "                                 [&#x27;dd_sin&#x27;, &#x27;dd_cos&#x27;, &#x27;day_sin&#x27;, &#x27;day_cos&#x27;,\n",
       "                                  &#x27;hour_sin&#x27;, &#x27;hour_cos&#x27;])])</pre></div></div></div><div class=\"sk-parallel\"><div class=\"sk-parallel-item\"><div class=\"sk-item\"><div class=\"sk-label-container\"><div class=\"sk-label sk-toggleable\"><input class=\"sk-toggleable__control sk-hidden--visually\" id=\"sk-estimator-id-80\" type=\"checkbox\" ><label for=\"sk-estimator-id-80\" class=\"sk-toggleable__label sk-toggleable__label-arrow\">num_transformer</label><div class=\"sk-toggleable__content\"><pre>[&#x27;Latitude&#x27;, &#x27;Longitude&#x27;, &#x27;Altitude&#x27;, &#x27;ff&#x27;, &#x27;t&#x27;, &#x27;u&#x27;, &#x27;ssfrai&#x27;, &#x27;pres&#x27;, &#x27;pmer&#x27;]</pre></div></div></div><div class=\"sk-serial\"><div class=\"sk-item\"><div class=\"sk-serial\"><div class=\"sk-item\"><div class=\"sk-estimator sk-toggleable\"><input class=\"sk-toggleable__control sk-hidden--visually\" id=\"sk-estimator-id-81\" type=\"checkbox\" ><label for=\"sk-estimator-id-81\" class=\"sk-toggleable__label sk-toggleable__label-arrow\">StandardScaler</label><div class=\"sk-toggleable__content\"><pre>StandardScaler()</pre></div></div></div></div></div></div></div></div><div class=\"sk-parallel-item\"><div class=\"sk-item\"><div class=\"sk-label-container\"><div class=\"sk-label sk-toggleable\"><input class=\"sk-toggleable__control sk-hidden--visually\" id=\"sk-estimator-id-82\" type=\"checkbox\" ><label for=\"sk-estimator-id-82\" class=\"sk-toggleable__label sk-toggleable__label-arrow\">null_transformer</label><div class=\"sk-toggleable__content\"><pre>[&#x27;dd_sin&#x27;, &#x27;dd_cos&#x27;, &#x27;day_sin&#x27;, &#x27;day_cos&#x27;, &#x27;hour_sin&#x27;, &#x27;hour_cos&#x27;]</pre></div></div></div><div class=\"sk-serial\"><div class=\"sk-item\"><div class=\"sk-serial\"><div class=\"sk-item\"><div class=\"sk-estimator sk-toggleable\"><input class=\"sk-toggleable__control sk-hidden--visually\" id=\"sk-estimator-id-83\" type=\"checkbox\" ><label for=\"sk-estimator-id-83\" class=\"sk-toggleable__label sk-toggleable__label-arrow\">passthrough</label><div class=\"sk-toggleable__content\"><pre>passthrough</pre></div></div></div></div></div></div></div></div></div></div><div class=\"sk-item\"><div class=\"sk-estimator sk-toggleable\"><input class=\"sk-toggleable__control sk-hidden--visually\" id=\"sk-estimator-id-84\" type=\"checkbox\" ><label for=\"sk-estimator-id-84\" class=\"sk-toggleable__label sk-toggleable__label-arrow\">XGBClassifier</label><div class=\"sk-toggleable__content\"><pre>XGBClassifier(base_score=0.5, booster=&#x27;gbtree&#x27;, callbacks=None,\n",
       "              colsample_bylevel=1, colsample_bynode=1, colsample_bytree=1,\n",
       "              early_stopping_rounds=None, enable_categorical=False,\n",
       "              eval_metric=&#x27;logloss&#x27;, gamma=0, gpu_id=-1,\n",
       "              grow_policy=&#x27;depthwise&#x27;, importance_type=None,\n",
       "              interaction_constraints=&#x27;&#x27;, learning_rate=0.300000012,\n",
       "              max_bin=256, max_cat_to_onehot=4, max_delta_step=0, max_depth=6,\n",
       "              max_leaves=0, min_child_weight=1, missing=nan,\n",
       "              monotone_constraints=&#x27;()&#x27;, n_estimators=100, n_jobs=0,\n",
       "              num_parallel_tree=1, predictor=&#x27;auto&#x27;, random_state=0,\n",
       "              reg_alpha=0, reg_lambda=1, ...)</pre></div></div></div></div></div></div></div>"
      ],
      "text/plain": [
       "Pipeline(steps=[('columntransformer',\n",
       "                 ColumnTransformer(transformers=[('num_transformer',\n",
       "                                                  Pipeline(steps=[('std_scaler',\n",
       "                                                                   StandardScaler())]),\n",
       "                                                  ['Latitude', 'Longitude',\n",
       "                                                   'Altitude', 'ff', 't', 'u',\n",
       "                                                   'ssfrai', 'pres', 'pmer']),\n",
       "                                                 ('null_transformer',\n",
       "                                                  Pipeline(steps=[('no_transform',\n",
       "                                                                   'passthrough')]),\n",
       "                                                  ['dd_sin', 'dd_cos',\n",
       "                                                   'day_sin', 'day_cos',\n",
       "                                                   'hour_sin', 'hour_cos'])])),\n",
       "                ('xg...\n",
       "                               gamma=0, gpu_id=-1, grow_policy='depthwise',\n",
       "                               importance_type=None, interaction_constraints='',\n",
       "                               learning_rate=0.300000012, max_bin=256,\n",
       "                               max_cat_to_onehot=4, max_delta_step=0,\n",
       "                               max_depth=6, max_leaves=0, min_child_weight=1,\n",
       "                               missing=nan, monotone_constraints='()',\n",
       "                               n_estimators=100, n_jobs=0, num_parallel_tree=1,\n",
       "                               predictor='auto', random_state=0, reg_alpha=0,\n",
       "                               reg_lambda=1, ...))])"
      ]
     },
     "execution_count": 147,
     "metadata": {},
     "output_type": "execute_result"
    }
   ],
   "source": [
    "pipeline_workflow.fit(X_train, y_train)\n",
    "pipeline_workflow_oversampling.fit(X_balanced, y_balanced)"
   ]
  },
  {
   "cell_type": "markdown",
   "metadata": {},
   "source": [
    "Let's check the scores of our model"
   ]
  },
  {
   "cell_type": "code",
   "execution_count": 161,
   "metadata": {},
   "outputs": [
    {
     "name": "stdout",
     "output_type": "stream",
     "text": [
      "--------------------------------------\n",
      "Accuracy of the pipeline_workflow:\n",
      "Train dataset: 0.9783522867086161\n",
      "Test dataset: 0.9788029185533783\n",
      "--------------------------------------\n",
      "Accuracy of the pipeline_workflow_oversampling:\n",
      "Train dataset: 0.9836604035574928\n",
      "Test dataset: 0.9827971447214917\n",
      "--------------------------------------\n"
     ]
    }
   ],
   "source": [
    "print(\"--------------------------------------\")\n",
    "print(\"Accuracy of the pipeline_workflow:\")\n",
    "print(f\"Train dataset: {pipeline_workflow.score(X_train, y_train)}\")\n",
    "print(f\"Test dataset: {pipeline_workflow.score(X_test, y_test)}\")\n",
    "print(\"--------------------------------------\")\n",
    "print(\"Accuracy of the pipeline_workflow_oversampling:\")\n",
    "print(f\"Train dataset: {pipeline_workflow_oversampling.score(X_train, y_train)}\")\n",
    "print(f\"Test dataset: {pipeline_workflow_oversampling.score(X_test, y_test)}\")\n",
    "print(\"--------------------------------------\")"
   ]
  },
  {
   "cell_type": "markdown",
   "metadata": {},
   "source": [
    "Whaou about 0.98! Impressive!!! Not really this is the accuracy and the dataset is really imbalanced."
   ]
  },
  {
   "cell_type": "markdown",
   "metadata": {},
   "source": [
    "Let's check the precision, recall and f1_score"
   ]
  },
  {
   "cell_type": "code",
   "execution_count": 149,
   "metadata": {},
   "outputs": [
    {
     "name": "stdout",
     "output_type": "stream",
     "text": [
      "Classification report of the pipeline_workflow_logloss:\n",
      "              precision    recall  f1-score   support\n",
      "\n",
      "           0       0.99      0.99      0.99     49680\n",
      "           1       0.36      0.25      0.30       893\n",
      "\n",
      "    accuracy                           0.98     50573\n",
      "   macro avg       0.67      0.62      0.64     50573\n",
      "weighted avg       0.98      0.98      0.98     50573\n",
      "\n",
      "--------------------------------------\n",
      "Classification report of the pipeline_workflow_oversampling:\n",
      "              precision    recall  f1-score   support\n",
      "\n",
      "           0       0.98      1.00      0.99     49680\n",
      "           1       0.56      0.12      0.20       893\n",
      "\n",
      "    accuracy                           0.98     50573\n",
      "   macro avg       0.77      0.56      0.59     50573\n",
      "weighted avg       0.98      0.98      0.98     50573\n",
      "\n",
      "--------------------------------------\n"
     ]
    }
   ],
   "source": [
    "from sklearn.metrics import classification_report\n",
    "report = classification_report(y_test, pipeline_workflow.predict(X_test))\n",
    "report_oversampling = classification_report(y_test, pipeline_workflow_oversampling.predict(X_test))\n",
    "print(\"Classification report of the pipeline_workflow_logloss:\")\n",
    "print(report)\n",
    "print(\"--------------------------------------\")\n",
    "print(\"Classification report of the pipeline_workflow_oversampling:\")\n",
    "print(report_oversampling)\n",
    "print(\"--------------------------------------\")    "
   ]
  },
  {
   "cell_type": "markdown",
   "metadata": {},
   "source": [
    "The precision, recall and f1-score are not that good compare to the accuracy.\n",
    "* Moreover the f1_score (harmonic mean of precision and recall) is better without oversampling than with oversampling.\n",
    "* The recall is also better without oversampling than with oversampling, and we want a better recall based on our assumption ((i.e. False Negative should have more cost than False Positive))\n",
    "* Should we take the model without oversampling based on that?\n",
    "* Let's check the ROC (Receiver Operating Characteristic) curve and fine-tune our models "
   ]
  },
  {
   "cell_type": "markdown",
   "metadata": {},
   "source": [
    "# 5 - Fine-tuning the model"
   ]
  },
  {
   "cell_type": "code",
   "execution_count": 151,
   "metadata": {},
   "outputs": [
    {
     "name": "stdout",
     "output_type": "stream",
     "text": [
      "AUC Score WITHOUT oversampling: 0.93525\n",
      "AUC Score WITH oversampling: 0.93525\n"
     ]
    }
   ],
   "source": [
    "from sklearn.metrics import roc_curve, roc_auc_score\n",
    "\n",
    "# Step 1: Predict on the test set, we want the probabilities, not the predicted classes\n",
    "y_prob = pipeline_workflow.predict_proba(X_test)[:, 1]\n",
    "y_prob_oversampling = pipeline_workflow_oversampling.predict_proba(X_test)[:, 1]\n",
    "\n",
    "# Step 1: Compute ROC curve\n",
    "fpr, tpr, thresholds = roc_curve(y_test, y_prob)\n",
    "fpr_os, tpr_os, thresholds_os = roc_curve(y_test, y_prob_oversampling)\n",
    "\n",
    "# Step 2: Calculate AUC (Area Under Curve) score\n",
    "auc_score = roc_auc_score(y_test, y_prob)\n",
    "auc_score_os = roc_auc_score(y_test, y_prob_oversampling)\n",
    "print(f\"AUC Score WITHOUT oversampling: {auc_score:.5f}\")\n",
    "print(f\"AUC Score WITH oversampling: {auc_score:.5f}\")"
   ]
  },
  {
   "cell_type": "markdown",
   "metadata": {},
   "source": [
    "AUC scores are the same, let's see the ROC curves"
   ]
  },
  {
   "cell_type": "code",
   "execution_count": 152,
   "metadata": {},
   "outputs": [
    {
     "data": {
      "image/png": "[encoded data removed]",
      "text/plain": [
       "<Figure size 800x600 with 1 Axes>"
      ]
     },
     "metadata": {},
     "output_type": "display_data"
    }
   ],
   "source": [
    "import matplotlib.pyplot as plt\n",
    "\n",
    "# Step 3: Plot the ROC curve\n",
    "plt.figure(figsize=(8, 6))\n",
    "plt.plot(fpr, tpr, color='blue', label=f\"ROC Curve (AUC = {auc_score:.2f})\")\n",
    "plt.plot(fpr_os, tpr_os, color='green', label=f\"ROC Curve with Oversampling (AUC = {auc_score:.2f})\")\n",
    "plt.plot([0, 1], [0, 1], color='red', linestyle='--', label='Random Guess')  # Random chance line\n",
    "plt.xlabel(\"False Positive Rate\")\n",
    "plt.ylabel(\"True Positive Rate (Recall)\")\n",
    "plt.title(\"Receiver Operating Characteristic (ROC) Curve\")\n",
    "plt.legend()\n",
    "plt.grid()\n",
    "plt.show()"
   ]
  },
  {
   "cell_type": "markdown",
   "metadata": {},
   "source": [
    "Looks like the ROC curve is better (further from the Random Guess line) for the model that used the oversampled data than the other one. "
   ]
  },
  {
   "cell_type": "markdown",
   "metadata": {},
   "source": [
    "- Youden's J statistic is a single statistic that captures the performance of a binary classifier. \n",
    "- It optimizes the trade-off between the true positive rate (recall = TP/(TP+FN)) and the false positive rate (FP/(FP+TN)).\n",
    "- Yousen's J statistic find the point on the ROC curve that is the that is farthest from the diagonal (random guess) line. "
   ]
  },
  {
   "cell_type": "code",
   "execution_count": 162,
   "metadata": {},
   "outputs": [
    {
     "name": "stdout",
     "output_type": "stream",
     "text": [
      "Optimal Threshold WITH oversampling: 0.00990\n",
      "Optimal Threshold WITHOUT oversampling: 0.01158\n"
     ]
    }
   ],
   "source": [
    "# Calculate Youden's J statistic\n",
    "youdens_j = tpr - fpr\n",
    "optimal_idx = np.argmax(youdens_j)\n",
    "optimal_threshold = thresholds[optimal_idx]\n",
    "\n",
    "# Calculate Youden's J statistic\n",
    "youdens_j_os = tpr_os - fpr_os\n",
    "optimal_idx_os = np.argmax(youdens_j_os)\n",
    "optimal_threshold_os = thresholds[optimal_idx_os]\n",
    "\n",
    "print(f\"Optimal Threshold WITH oversampling: {optimal_threshold:.5f}\")\n",
    "print(f\"Optimal Threshold WITHOUT oversampling: {optimal_threshold_os:.5f}\")"
   ]
  },
  {
   "cell_type": "markdown",
   "metadata": {},
   "source": [
    "We can now check the performance of our models with these optimal thresholds."
   ]
  },
  {
   "cell_type": "code",
   "execution_count": 154,
   "metadata": {},
   "outputs": [
    {
     "name": "stdout",
     "output_type": "stream",
     "text": [
      "Classification report of the pipeline_workflow_logloss:\n",
      "Confusion_matrix\n",
      "[[42100  7580]\n",
      " [   97   796]]\n",
      "-------\n",
      "Report\n",
      "              precision    recall  f1-score   support\n",
      "\n",
      "           0       1.00      0.85      0.92     49680\n",
      "           1       0.10      0.89      0.17       893\n",
      "\n",
      "    accuracy                           0.85     50573\n",
      "   macro avg       0.55      0.87      0.54     50573\n",
      "weighted avg       0.98      0.85      0.90     50573\n",
      "\n",
      "--------------------------------------\n",
      "Classification report of the pipeline_workflow_oversampling:\n",
      "Confusion_matrix\n",
      "[[40283  9397]\n",
      " [   37   856]]\n",
      "-------\n",
      "Report\n",
      "              precision    recall  f1-score   support\n",
      "\n",
      "           0       1.00      0.81      0.90     49680\n",
      "           1       0.08      0.96      0.15       893\n",
      "\n",
      "    accuracy                           0.81     50573\n",
      "   macro avg       0.54      0.88      0.52     50573\n",
      "weighted avg       0.98      0.81      0.88     50573\n",
      "\n",
      "--------------------------------------\n"
     ]
    }
   ],
   "source": [
    "from sklearn.metrics import confusion_matrix\n",
    "\n",
    "# Step 4: Predict the test set with the optimal threshold\n",
    "y_prob_logloss = pipeline_workflow.predict_proba(X_test)[:, 1]\n",
    "y_pred_logloss_optimal = (y_prob_logloss > optimal_threshold).astype(int)\n",
    "\n",
    "y_prob_oversampling = pipeline_workflow_oversampling.predict_proba(X_test)[:, 1]\n",
    "y_pred_oversampling_optimal = (y_prob_oversampling > optimal_threshold_os).astype(int)\n",
    "\n",
    "from sklearn.metrics import classification_report\n",
    "report_logloss = classification_report(y_test, y_pred_logloss_optimal)\n",
    "report_oversampling = classification_report(y_test, y_pred_oversampling_optimal)\n",
    "print(\"Classification report of the pipeline_workflow_logloss:\")\n",
    "print(\"Confusion_matrix\")\n",
    "print(confusion_matrix(y_test, y_pred_logloss_optimal))\n",
    "print(\"-------\")\n",
    "print(\"Report\")\n",
    "print(report_logloss)\n",
    "print(\"--------------------------------------\")\n",
    "print(\"Classification report of the pipeline_workflow_oversampling:\")\n",
    "print(\"Confusion_matrix\")\n",
    "print(confusion_matrix(y_test, y_pred_oversampling_optimal))\n",
    "print(\"-------\")\n",
    "print(\"Report\")\n",
    "print(report_oversampling)\n",
    "print(\"--------------------------------------\")    "
   ]
  },
  {
   "cell_type": "markdown",
   "metadata": {},
   "source": [
    "We can now see that the model with oversampling has a better performance than the model without oversampling. \n",
    "* The AUC score is higher, and the confusion matrix and the recall show that the model with oversampling has a better performance in predicting the positive class (it's raining!).\n",
    "* The model with oversampling has an higher recall (0.96 vs 0.89) for the positive class although the precision is slighly lower (0.08 vs 0.10).\n",
    "* Based on our original assumption and the use case (we don't want to miss a rain event), the model trained used the oversampling strategy provide a better classifier."
   ]
  },
  {
   "cell_type": "markdown",
   "metadata": {},
   "source": [
    "# 6 - Saving the model (with the pipeline)"
   ]
  },
  {
   "cell_type": "code",
   "execution_count": 160,
   "metadata": {},
   "outputs": [],
   "source": [
    "import pickle as pkl\n",
    "# Save the model and threshold\n",
    "with open('xgb_model_with_threshold.pkl', 'wb') as f:\n",
    "    pkl.dump({'model': pipeline_workflow_oversampling, 'threshold': optimal_threshold_os}, f)"
   ]
  },
  {
   "cell_type": "markdown",
   "metadata": {},
   "source": [
    "The model is saved and can be used elsewhere, in a API for instance."
   ]
  },
  {
   "cell_type": "markdown",
   "metadata": {},
   "source": [
    "# 7 - Some more ..."
   ]
  },
  {
   "cell_type": "markdown",
   "metadata": {},
   "source": [
    "Let's see how the threshold probability affects the precision, the recall and the F1-score."
   ]
  },
  {
   "cell_type": "code",
   "execution_count": 155,
   "metadata": {},
   "outputs": [
    {
     "name": "stderr",
     "output_type": "stream",
     "text": [
      "/home/jerome/.pyenv/versions/3.8.12/envs/simplon/lib/python3.8/site-packages/sklearn/metrics/_classification.py:1469: UndefinedMetricWarning: Precision is ill-defined and being set to 0.0 due to no predicted samples. Use `zero_division` parameter to control this behavior.\n",
      "  _warn_prf(average, modifier, msg_start, len(result))\n",
      "/home/jerome/.pyenv/versions/3.8.12/envs/simplon/lib/python3.8/site-packages/sklearn/metrics/_classification.py:1469: UndefinedMetricWarning: Precision is ill-defined and being set to 0.0 due to no predicted samples. Use `zero_division` parameter to control this behavior.\n",
      "  _warn_prf(average, modifier, msg_start, len(result))\n",
      "/home/jerome/.pyenv/versions/3.8.12/envs/simplon/lib/python3.8/site-packages/sklearn/metrics/_classification.py:1469: UndefinedMetricWarning: Precision is ill-defined and being set to 0.0 due to no predicted samples. Use `zero_division` parameter to control this behavior.\n",
      "  _warn_prf(average, modifier, msg_start, len(result))\n",
      "/home/jerome/.pyenv/versions/3.8.12/envs/simplon/lib/python3.8/site-packages/sklearn/metrics/_classification.py:1469: UndefinedMetricWarning: Precision is ill-defined and being set to 0.0 due to no predicted samples. Use `zero_division` parameter to control this behavior.\n",
      "  _warn_prf(average, modifier, msg_start, len(result))\n",
      "/home/jerome/.pyenv/versions/3.8.12/envs/simplon/lib/python3.8/site-packages/sklearn/metrics/_classification.py:1469: UndefinedMetricWarning: Precision is ill-defined and being set to 0.0 due to no predicted samples. Use `zero_division` parameter to control this behavior.\n",
      "  _warn_prf(average, modifier, msg_start, len(result))\n"
     ]
    }
   ],
   "source": [
    "from sklearn.metrics import precision_score, recall_score, f1_score\n",
    "\n",
    "df_score = pd.DataFrame(columns=['threshold', 'recall', 'precision', 'f1_score'])\n",
    "for i in range(1, 100, 1):\n",
    "    threshold = i/100\n",
    "    y_prob = pipeline_workflow.predict_proba(X_test)[:, 1]\n",
    "    y_pred = (y_prob > threshold).astype(int)\n",
    "    recall = recall_score(y_test, y_pred)\n",
    "    precision = precision_score(y_test, y_pred)\n",
    "    f1 = f1_score(y_test, y_pred)\n",
    "    df_new = pd.DataFrame({'threshold': [threshold/100], 'recall': [recall], 'precision': [precision], 'f1_score': f1})\n",
    "    df_score = pd.concat([df_score, df_new])\n",
    "    \n",
    "df_score_os = pd.DataFrame(columns=['threshold', 'recall', 'precision', 'f1_score'])\n",
    "for i in range(1, 100, 1):\n",
    "    threshold = i/100\n",
    "    y_prob_oversampling = pipeline_workflow_oversampling.predict_proba(X_test)[:, 1]\n",
    "    y_pred_oversampling = (y_prob_oversampling > threshold).astype(int)\n",
    "    recall = recall_score(y_test, y_pred_oversampling)\n",
    "    precision = precision_score(y_test, y_pred_oversampling)\n",
    "    f1 = f1_score(y_test, y_pred_oversampling)\n",
    "    df_new = pd.DataFrame({'threshold': [i/100], 'recall': [recall], 'precision': [precision], 'f1_score': f1})\n",
    "    df_score_os = pd.concat([df_score_os, df_new])"
   ]
  },
  {
   "cell_type": "code",
   "execution_count": 156,
   "metadata": {},
   "outputs": [
    {
     "data": {
      "text/plain": [
       "<AxesSubplot:xlabel='threshold'>"
      ]
     },
     "execution_count": 156,
     "metadata": {},
     "output_type": "execute_result"
    },
    {
     "data": {
      "image/png": "[encoded data removed]",
      "text/plain": [
       "<Figure size 1000x600 with 1 Axes>"
      ]
     },
     "metadata": {},
     "output_type": "display_data"
    }
   ],
   "source": [
    "df_score.plot(x='threshold', y=['recall', 'precision', 'f1_score'], figsize=(10, 6))"
   ]
  },
  {
   "cell_type": "code",
   "execution_count": 157,
   "metadata": {},
   "outputs": [
    {
     "data": {
      "text/plain": [
       "<AxesSubplot:xlabel='threshold'>"
      ]
     },
     "execution_count": 157,
     "metadata": {},
     "output_type": "execute_result"
    },
    {
     "data": {
      "image/png": "[encoded data removed]",
      "text/plain": [
       "<Figure size 1000x600 with 1 Axes>"
      ]
     },
     "metadata": {},
     "output_type": "display_data"
    }
   ],
   "source": [
    "df_score_os.plot(x='threshold', y=['recall', 'precision', 'f1_score'], figsize=(10, 6))"
   ]
  }
 ],
 "metadata": {
  "kernelspec": {
   "display_name": "simplon",
   "language": "python",
   "name": "python3"
  },
  "language_info": {
   "codemirror_mode": {
    "name": "ipython",
    "version": 3
   },
   "file_extension": ".py",
   "mimetype": "text/x-python",
   "name": "python",
   "nbconvert_exporter": "python",
   "pygments_lexer": "ipython3",
   "version": "3.8.12"
  }
 },
 "nbformat": 4,
 "nbformat_minor": 2
}
